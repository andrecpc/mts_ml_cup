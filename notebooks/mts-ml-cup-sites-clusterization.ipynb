{
 "cells": [
  {
   "cell_type": "code",
   "execution_count": null,
   "metadata": {
    "execution": {
     "iopub.execute_input": "2023-02-14T18:38:24.053677Z",
     "iopub.status.busy": "2023-02-14T18:38:24.053242Z",
     "iopub.status.idle": "2023-02-14T18:38:24.080226Z",
     "shell.execute_reply": "2023-02-14T18:38:24.079348Z",
     "shell.execute_reply.started": "2023-02-14T18:38:24.053591Z"
    },
    "id": "NwTbTgNlXIE8"
   },
   "outputs": [],
   "source": [
    "# https://habr.com/ru/post/677618/\n",
    "# https://habr.com/ru/post/562064/\n",
    "# https://colab.research.google.com/drive/1RgSJ0k-qppdtTEIR5_X1tp80ntfNXQh1?usp=sharing\n",
    "# Тут про векторизацию текста"
   ]
  },
  {
   "cell_type": "code",
   "execution_count": null,
   "metadata": {
    "execution": {
     "iopub.execute_input": "2023-02-14T18:38:24.712189Z",
     "iopub.status.busy": "2023-02-14T18:38:24.711831Z",
     "iopub.status.idle": "2023-02-14T18:38:24.716911Z",
     "shell.execute_reply": "2023-02-14T18:38:24.715643Z",
     "shell.execute_reply.started": "2023-02-14T18:38:24.712159Z"
    },
    "id": "208IBiy7l3Iv"
   },
   "outputs": [],
   "source": [
    "# https://towardsdatascience.com/clustering-sentence-embeddings-to-identify-intents-in-short-text-48d22d3bf02e\n",
    "\n",
    "# Почитать про кластеринг"
   ]
  },
  {
   "cell_type": "markdown",
   "metadata": {
    "id": "yW0dcFP6Ode8"
   },
   "source": [
    "### Тесты кода по кластеризации"
   ]
  },
  {
   "cell_type": "code",
   "execution_count": null,
   "metadata": {
    "execution": {
     "iopub.execute_input": "2023-02-14T18:38:25.730350Z",
     "iopub.status.busy": "2023-02-14T18:38:25.729982Z",
     "iopub.status.idle": "2023-02-14T18:38:25.747030Z",
     "shell.execute_reply": "2023-02-14T18:38:25.745732Z",
     "shell.execute_reply.started": "2023-02-14T18:38:25.730320Z"
    }
   },
   "outputs": [],
   "source": [
    "import numpy as np\n",
    "import pandas as pd\n",
    "\n",
    "import os\n",
    "for dirname, _, filenames in os.walk('/kaggle'):\n",
    "    for filename in filenames:\n",
    "        print(os.path.join(dirname, filename))"
   ]
  },
  {
   "cell_type": "code",
   "execution_count": null,
   "metadata": {
    "execution": {
     "iopub.execute_input": "2023-02-14T18:38:28.417828Z",
     "iopub.status.busy": "2023-02-14T18:38:28.417451Z",
     "iopub.status.idle": "2023-02-14T18:38:40.498690Z",
     "shell.execute_reply": "2023-02-14T18:38:40.497538Z",
     "shell.execute_reply.started": "2023-02-14T18:38:28.417795Z"
    },
    "id": "QTKLpQSYOgWR",
    "outputId": "9c4defeb-ecdc-40ec-f90b-27e5e7a1fdd3"
   },
   "outputs": [],
   "source": [
    "!pip install transformers sentencepiece datasets razdel -q"
   ]
  },
  {
   "cell_type": "code",
   "execution_count": null,
   "metadata": {
    "execution": {
     "iopub.execute_input": "2023-02-14T18:38:40.501740Z",
     "iopub.status.busy": "2023-02-14T18:38:40.501033Z",
     "iopub.status.idle": "2023-02-14T18:38:42.923686Z",
     "shell.execute_reply": "2023-02-14T18:38:42.922581Z",
     "shell.execute_reply.started": "2023-02-14T18:38:40.501696Z"
    },
    "id": "Z2bZoP1hPI3f"
   },
   "outputs": [],
   "source": [
    "import pandas as pd\n",
    "import numpy as np\n",
    "import torch\n",
    "import random\n",
    "import razdel\n",
    "from transformers import AutoModelForSeq2SeqLM, AutoTokenizer, AutoModel\n",
    "from transformers.modeling_outputs import BaseModelOutput"
   ]
  },
  {
   "cell_type": "code",
   "execution_count": null,
   "metadata": {
    "execution": {
     "iopub.execute_input": "2023-02-14T18:40:45.721347Z",
     "iopub.status.busy": "2023-02-14T18:40:45.720406Z",
     "iopub.status.idle": "2023-02-14T18:40:45.726706Z",
     "shell.execute_reply": "2023-02-14T18:40:45.725540Z",
     "shell.execute_reply.started": "2023-02-14T18:40:45.721290Z"
    },
    "id": "vr_kBFPbPKiT"
   },
   "outputs": [],
   "source": [
    "df = pd.read_excel('/kaggle/input/mts-ml-cup-sites-raw/sites.xlsx')\n",
    "df_w_descr = df.loc[~df.text.isna()]\n",
    "\n",
    "# df_w_descr = df_w_descr[0:500]"
   ]
  },
  {
   "cell_type": "code",
   "execution_count": null,
   "metadata": {
    "execution": {
     "iopub.execute_input": "2023-02-14T18:40:46.042842Z",
     "iopub.status.busy": "2023-02-14T18:40:46.042138Z",
     "iopub.status.idle": "2023-02-14T18:40:46.060429Z",
     "shell.execute_reply": "2023-02-14T18:40:46.059270Z",
     "shell.execute_reply.started": "2023-02-14T18:40:46.042805Z"
    }
   },
   "outputs": [],
   "source": [
    "df_w_descr"
   ]
  },
  {
   "cell_type": "code",
   "execution_count": null,
   "metadata": {
    "execution": {
     "iopub.execute_input": "2023-02-14T18:40:59.274039Z",
     "iopub.status.busy": "2023-02-14T18:40:59.273299Z",
     "iopub.status.idle": "2023-02-14T18:40:59.400090Z",
     "shell.execute_reply": "2023-02-14T18:40:59.398969Z",
     "shell.execute_reply.started": "2023-02-14T18:40:59.274001Z"
    },
    "id": "rEQn5q2JPk-T",
    "outputId": "01a178d7-8307-4bd0-f2f2-c4e3b6cc0940"
   },
   "outputs": [],
   "source": [
    "replaces_re = [\n",
    "['Быстрый ответ:.* К основным', 'К основным'],\n",
    "['Добавлены результаты по запросу.*».', '']\n",
    "]\n",
    "\n",
    "replaces = [\n",
    "'Преимущества. Потери трафика при переходе со смартфонов уменьшаются, даже если у пользователей медленный или нестабильный интернет.',\n",
    "'Некоторые ссылки отсутствуют в результатах поиска в силу требований применимого законодательства.',\n",
    "'Преимущества. Потери трафика при переходе со смартфонов уменьшаются, даже если у пользователей',\n",
    "'Рост популярности Турбо-страниц у пользователей положительно влияет на посещаемость сайта.',\n",
    "'К основным результатамОбратная связь о специальных возможностях',\n",
    "'поиск картинки видео карты товары переводчик все сервисы',\n",
    "'Волгоград Google Bing Сообщить об ошибке Настройки Я.ру',\n",
    "'Владелец сайта предпочёл скрыть описание страницы.',\n",
    "'Владелец сайта предпочёл описание страницы.',\n",
    "'Обратная связь о специальных возможностях',\n",
    "'Снижается нагрузка на хостинг и серверы',\n",
    "'РКН: сайт нарушает закон РФ',\n",
    "'К основным результатам',\n",
    "'Навигационный ответ ',\n",
    "'Навигационный ответ',\n",
    "'Сообщить об ошибке',\n",
    "'Статья в Википедии',\n",
    "'все сервисы Меню ',\n",
    "'Видимость сайта ',\n",
    "'Исходящие ссылки',\n",
    "'Смотрите также',\n",
    "'Турбо-страница',\n",
    "'Отменить Меню',\n",
    "'Скрыть Меню ',\n",
    "'Весь список',\n",
    "'Скрыть Меню',\n",
    "'Читать ещё',\n",
    "'Люди ищут ',\n",
    "'Подробнее',\n",
    "'Отменить',\n",
    "'Скрыть ',\n",
    "'Меню',\n",
    "]\n",
    "\n",
    "for el in replaces_re:\n",
    "    df_w_descr['text'] = df_w_descr['text'].str.replace(el[0], el[1])\n",
    "\n",
    "for el in replaces:\n",
    "    df_w_descr['text'] = df_w_descr['text'].str.replace(el, '')"
   ]
  },
  {
   "cell_type": "code",
   "execution_count": null,
   "metadata": {
    "execution": {
     "iopub.execute_input": "2023-02-14T18:41:06.915026Z",
     "iopub.status.busy": "2023-02-14T18:41:06.914460Z",
     "iopub.status.idle": "2023-02-14T18:41:38.238406Z",
     "shell.execute_reply": "2023-02-14T18:41:38.237351Z",
     "shell.execute_reply.started": "2023-02-14T18:41:06.914983Z"
    },
    "id": "KaG0OLN7Rvu_",
    "outputId": "0230eaeb-dec3-44d8-d587-720fbfbe24a2"
   },
   "outputs": [],
   "source": [
    "bert_name = 'cointegrated/LaBSE-en-ru'\n",
    "enc_tokenizer = AutoTokenizer.from_pretrained(bert_name)\n",
    "encoder = AutoModel.from_pretrained(bert_name)\n",
    "\n",
    "if torch.cuda.is_available():\n",
    "    encoder.cuda()\n",
    "\n",
    "def encode(texts, do_norm=True):\n",
    "    encoded_input = enc_tokenizer(texts, padding=True, truncation=True, max_length=512, return_tensors='pt')\n",
    "    with torch.no_grad():\n",
    "        model_output = encoder(**encoded_input.to(encoder.device))\n",
    "        embeddings = model_output.pooler_output\n",
    "        if do_norm:\n",
    "            embeddings = torch.nn.functional.normalize(embeddings)\n",
    "    return embeddings"
   ]
  },
  {
   "cell_type": "code",
   "execution_count": null,
   "metadata": {
    "execution": {
     "iopub.execute_input": "2023-02-14T18:41:50.631463Z",
     "iopub.status.busy": "2023-02-14T18:41:50.630419Z",
     "iopub.status.idle": "2023-02-14T18:42:09.995237Z",
     "shell.execute_reply": "2023-02-14T18:42:09.994265Z",
     "shell.execute_reply.started": "2023-02-14T18:41:50.631423Z"
    },
    "id": "4bwvJbV2SDjO",
    "outputId": "0d62ba20-1062-4b17-c678-02a7e9d72e36"
   },
   "outputs": [],
   "source": [
    "from tqdm._tqdm_notebook import tqdm_notebook\n",
    "\n",
    "x = torch.empty(size=(df_w_descr.shape[0], 768))\n",
    "for i in tqdm_notebook(range(df_w_descr.shape[0])):\n",
    "    x[i] = encode(df_w_descr['text'][i:i+1].values[0])\n",
    "\n",
    "y = x.cpu().detach().numpy()"
   ]
  },
  {
   "cell_type": "code",
   "execution_count": null,
   "metadata": {
    "execution": {
     "iopub.execute_input": "2023-02-14T18:43:26.935998Z",
     "iopub.status.busy": "2023-02-14T18:43:26.935088Z",
     "iopub.status.idle": "2023-02-14T18:43:26.944318Z",
     "shell.execute_reply": "2023-02-14T18:43:26.943092Z",
     "shell.execute_reply.started": "2023-02-14T18:43:26.935950Z"
    }
   },
   "outputs": [],
   "source": [
    "print(y.shape)\n",
    "np.save('y.npy', y)"
   ]
  },
  {
   "cell_type": "code",
   "execution_count": null,
   "metadata": {
    "execution": {
     "iopub.execute_input": "2023-02-14T18:43:42.559713Z",
     "iopub.status.busy": "2023-02-14T18:43:42.559303Z",
     "iopub.status.idle": "2023-02-14T18:45:08.961249Z",
     "shell.execute_reply": "2023-02-14T18:45:08.960059Z",
     "shell.execute_reply.started": "2023-02-14T18:43:42.559661Z"
    },
    "id": "cpTpms7vTEXp",
    "outputId": "60def66d-6f2f-4ba7-c819-5536198930eb"
   },
   "outputs": [],
   "source": [
    "!pip install hdbscan\n",
    "!pip install umap-learn\n",
    "!pip install cuml"
   ]
  },
  {
   "cell_type": "code",
   "execution_count": null,
   "metadata": {
    "execution": {
     "iopub.execute_input": "2023-02-14T18:45:27.925368Z",
     "iopub.status.busy": "2023-02-14T18:45:27.924954Z",
     "iopub.status.idle": "2023-02-14T18:45:47.155336Z",
     "shell.execute_reply": "2023-02-14T18:45:47.154209Z",
     "shell.execute_reply.started": "2023-02-14T18:45:27.925327Z"
    },
    "id": "yUs89Q5FShUp"
   },
   "outputs": [],
   "source": [
    "import random\n",
    "from functools import partial\n",
    "\n",
    "import matplotlib.pyplot as plt\n",
    "# import hdbscan\n",
    "import cuml.cluster as hdbscan\n",
    "import umap\n",
    "import tensorflow as tf\n",
    "import tensorflow_hub as hub\n",
    "# from sentence_transformers import SentenceTransformer\n",
    "from sklearn.metrics.cluster import normalized_mutual_info_score\n",
    "from sklearn.metrics.cluster import adjusted_rand_score\n",
    "from tqdm.notebook import trange\n",
    "from hyperopt import fmin, tpe, hp, STATUS_OK, space_eval, Trials"
   ]
  },
  {
   "cell_type": "markdown",
   "metadata": {
    "id": "BEP9pBCxQpev"
   },
   "source": [
    "##### Функции кластеризации"
   ]
  },
  {
   "cell_type": "code",
   "execution_count": null,
   "metadata": {
    "execution": {
     "iopub.execute_input": "2023-02-14T18:45:50.665755Z",
     "iopub.status.busy": "2023-02-14T18:45:50.664719Z",
     "iopub.status.idle": "2023-02-14T18:45:50.678686Z",
     "shell.execute_reply": "2023-02-14T18:45:50.677370Z",
     "shell.execute_reply.started": "2023-02-14T18:45:50.665711Z"
    },
    "id": "THZX0cNdSmQ5"
   },
   "outputs": [],
   "source": [
    "def generate_clusters(message_embeddings,\n",
    "                      n_neighbors,\n",
    "                      n_components, \n",
    "                      min_cluster_size,\n",
    "                      min_samples = None,\n",
    "                      random_state = None):\n",
    "    \"\"\"\n",
    "    Returns HDBSCAN objects after first performing dimensionality reduction using UMAP\n",
    "    \n",
    "    Arguments:\n",
    "        message_embeddings: embeddings to use\n",
    "        n_neighbors: int, UMAP hyperparameter n_neighbors\n",
    "        n_components: int, UMAP hyperparameter n_components\n",
    "        min_cluster_size: int, HDBSCAN hyperparameter min_cluster_size\n",
    "        min_samples: int, HDBSCAN hyperparameter min_samples\n",
    "        random_state: int, random seed\n",
    "        \n",
    "    Returns:\n",
    "        clusters: HDBSCAN object of clusters\n",
    "    \"\"\"\n",
    "    \n",
    "    umap_embeddings = (umap.UMAP(n_neighbors = n_neighbors, \n",
    "                                n_components = n_components, \n",
    "                                metric = 'cosine', \n",
    "                                random_state=random_state)\n",
    "                            .fit_transform(message_embeddings))\n",
    "\n",
    "    clusters = hdbscan.HDBSCAN(min_cluster_size = min_cluster_size, \n",
    "                               min_samples = min_samples,\n",
    "                               metric='euclidean', \n",
    "                               gen_min_span_tree=True,\n",
    "                               cluster_selection_method='eom').fit(umap_embeddings)\n",
    "    \n",
    "    return clusters"
   ]
  },
  {
   "cell_type": "code",
   "execution_count": null,
   "metadata": {
    "execution": {
     "iopub.execute_input": "2023-02-14T18:45:50.907242Z",
     "iopub.status.busy": "2023-02-14T18:45:50.906229Z",
     "iopub.status.idle": "2023-02-14T18:45:50.913651Z",
     "shell.execute_reply": "2023-02-14T18:45:50.912544Z",
     "shell.execute_reply.started": "2023-02-14T18:45:50.907201Z"
    },
    "id": "JiAB5ibiStT4"
   },
   "outputs": [],
   "source": [
    "def score_clusters(clusters, prob_threshold = 0.05):\n",
    "    \"\"\"\n",
    "    Returns the label count and cost of a given clustering\n",
    "\n",
    "    Arguments:\n",
    "        clusters: HDBSCAN clustering object\n",
    "        prob_threshold: float, probability threshold to use for deciding\n",
    "                        what cluster labels are considered low confidence\n",
    "\n",
    "    Returns:\n",
    "        label_count: int, number of unique cluster labels, including noise\n",
    "        cost: float, fraction of data points whose cluster assignment has\n",
    "              a probability below cutoff threshold\n",
    "    \"\"\"\n",
    "    \n",
    "    cluster_labels = clusters.labels_\n",
    "    label_count = len(np.unique(cluster_labels))\n",
    "    total_num = len(clusters.labels_)\n",
    "    cost = (np.count_nonzero(clusters.probabilities_ < prob_threshold)/total_num)\n",
    "    \n",
    "    return label_count, cost"
   ]
  },
  {
   "cell_type": "code",
   "execution_count": null,
   "metadata": {
    "execution": {
     "iopub.execute_input": "2023-02-14T18:45:51.166153Z",
     "iopub.status.busy": "2023-02-14T18:45:51.165735Z",
     "iopub.status.idle": "2023-02-14T18:45:51.176684Z",
     "shell.execute_reply": "2023-02-14T18:45:51.175612Z",
     "shell.execute_reply.started": "2023-02-14T18:45:51.166109Z"
    },
    "id": "pTFMxi5XSvHR"
   },
   "outputs": [],
   "source": [
    "def random_search(embeddings, space, num_evals):\n",
    "    \"\"\"\n",
    "    Randomly search parameter space of clustering pipeline\n",
    "\n",
    "    Arguments:\n",
    "        embeddings: embeddings to use\n",
    "        space: dict, contains keys for 'n_neighbors', 'n_components',\n",
    "               and 'min_cluster_size' and values with\n",
    "               corresponding lists or ranges of parameters to search\n",
    "        num_evals: int, number of random parameter combinations to try\n",
    "\n",
    "    Returns:\n",
    "        df_result: pandas dataframe containing info on each evaluation\n",
    "                   performed, including run_id, parameters used, label\n",
    "                   count, and cost\n",
    "    \"\"\"\n",
    "    \n",
    "    results = []\n",
    "    \n",
    "    for i in trange(num_evals):\n",
    "        n_neighbors = random.choice(space['n_neighbors'])\n",
    "        n_components = random.choice(space['n_components'])\n",
    "        min_cluster_size = random.choice(space['min_cluster_size'])\n",
    "        random_state = space['random_state']\n",
    "        \n",
    "        clusters = generate_clusters(embeddings, \n",
    "                                     n_neighbors=n_neighbors, \n",
    "                                     n_components=n_components, \n",
    "                                     min_cluster_size=min_cluster_size, \n",
    "                                     random_state=random_state)\n",
    "    \n",
    "        label_count, cost = score_clusters(clusters, prob_threshold = 0.05)\n",
    "                \n",
    "        results.append([i, n_neighbors, n_components, min_cluster_size, label_count, cost])\n",
    "    \n",
    "    result_df = pd.DataFrame(results, columns=['run_id', 'n_neighbors', 'n_components', \n",
    "                                               'min_cluster_size', 'label_count', 'cost'])\n",
    "    \n",
    "    return result_df.sort_values(by='cost')"
   ]
  },
  {
   "cell_type": "code",
   "execution_count": null,
   "metadata": {
    "execution": {
     "iopub.execute_input": "2023-02-14T18:45:51.438017Z",
     "iopub.status.busy": "2023-02-14T18:45:51.437701Z",
     "iopub.status.idle": "2023-02-14T18:45:51.445363Z",
     "shell.execute_reply": "2023-02-14T18:45:51.443960Z",
     "shell.execute_reply.started": "2023-02-14T18:45:51.437990Z"
    },
    "id": "Y5Ep3rgGSycH"
   },
   "outputs": [],
   "source": [
    "def objective(params, embeddings, label_lower, label_upper):\n",
    "    \"\"\"\n",
    "    Objective function for hyperopt to minimize\n",
    "\n",
    "    Arguments:\n",
    "        params: dict, contains keys for 'n_neighbors', 'n_components',\n",
    "               'min_cluster_size', 'random_state' and\n",
    "               their values to use for evaluation\n",
    "        embeddings: embeddings to use\n",
    "        label_lower: int, lower end of range of number of expected clusters\n",
    "        label_upper: int, upper end of range of number of expected clusters\n",
    "\n",
    "    Returns:\n",
    "        loss: cost function result incorporating penalties for falling\n",
    "              outside desired range for number of clusters\n",
    "        label_count: int, number of unique cluster labels, including noise\n",
    "        status: string, hypoeropt status\n",
    "\n",
    "        \"\"\"\n",
    "    \n",
    "    clusters = generate_clusters(embeddings, \n",
    "                                 n_neighbors = params['n_neighbors'], \n",
    "                                 n_components = params['n_components'], \n",
    "                                 min_cluster_size = params['min_cluster_size'],\n",
    "                                 random_state = params['random_state'])\n",
    "    \n",
    "    label_count, cost = score_clusters(clusters, prob_threshold = 0.05)\n",
    "    \n",
    "    #15% penalty on the cost function if outside the desired range of groups\n",
    "    if (label_count < label_lower) | (label_count > label_upper):\n",
    "        penalty = 0.15 \n",
    "    else:\n",
    "        penalty = 0\n",
    "    \n",
    "    loss = cost + penalty\n",
    "    \n",
    "    return {'loss': loss, 'label_count': label_count, 'status': STATUS_OK}"
   ]
  },
  {
   "cell_type": "code",
   "execution_count": null,
   "metadata": {
    "execution": {
     "iopub.execute_input": "2023-02-14T18:45:51.767217Z",
     "iopub.status.busy": "2023-02-14T18:45:51.766564Z",
     "iopub.status.idle": "2023-02-14T18:45:51.775818Z",
     "shell.execute_reply": "2023-02-14T18:45:51.774710Z",
     "shell.execute_reply.started": "2023-02-14T18:45:51.767174Z"
    },
    "id": "dVBaR5qXSy0i"
   },
   "outputs": [],
   "source": [
    "def bayesian_search(embeddings, space, label_lower, label_upper, max_evals=100):\n",
    "    \"\"\"\n",
    "    Perform bayesian search on hyperparameter space using hyperopt\n",
    "\n",
    "    Arguments:\n",
    "        embeddings: embeddings to use\n",
    "        space: dict, contains keys for 'n_neighbors', 'n_components',\n",
    "               'min_cluster_size', and 'random_state' and\n",
    "               values that use built-in hyperopt functions to define\n",
    "               search spaces for each\n",
    "        label_lower: int, lower end of range of number of expected clusters\n",
    "        label_upper: int, upper end of range of number of expected clusters\n",
    "        max_evals: int, maximum number of parameter combinations to try\n",
    "\n",
    "    Saves the following to instance variables:\n",
    "        best_params: dict, contains keys for 'n_neighbors', 'n_components',\n",
    "               'min_cluster_size', 'min_samples', and 'random_state' and\n",
    "               values associated with lowest cost scenario tested\n",
    "        best_clusters: HDBSCAN object associated with lowest cost scenario\n",
    "                       tested\n",
    "        trials: hyperopt trials object for search\n",
    "\n",
    "        \"\"\"\n",
    "    \n",
    "    trials = Trials()\n",
    "    fmin_objective = partial(objective, \n",
    "                             embeddings=embeddings, \n",
    "                             label_lower=label_lower,\n",
    "                             label_upper=label_upper)\n",
    "    \n",
    "    best = fmin(fmin_objective, \n",
    "                space = space, \n",
    "                algo=tpe.suggest,\n",
    "                max_evals=max_evals, \n",
    "                trials=trials)\n",
    "\n",
    "    best_params = space_eval(space, best)\n",
    "    print ('best:')\n",
    "    print (best_params)\n",
    "    print (f\"label count: {trials.best_trial['result']['label_count']}\")\n",
    "    \n",
    "    best_clusters = generate_clusters(embeddings, \n",
    "                                      n_neighbors = best_params['n_neighbors'], \n",
    "                                      n_components = best_params['n_components'], \n",
    "                                      min_cluster_size = best_params['min_cluster_size'],\n",
    "                                      random_state = best_params['random_state'])\n",
    "    \n",
    "    return best_params, best_clusters, trials"
   ]
  },
  {
   "cell_type": "code",
   "execution_count": null,
   "metadata": {
    "execution": {
     "iopub.execute_input": "2023-02-14T18:45:52.076363Z",
     "iopub.status.busy": "2023-02-14T18:45:52.075993Z",
     "iopub.status.idle": "2023-02-14T18:45:52.082588Z",
     "shell.execute_reply": "2023-02-14T18:45:52.081254Z",
     "shell.execute_reply.started": "2023-02-14T18:45:52.076332Z"
    },
    "id": "dZ7CtK2AS2Iu"
   },
   "outputs": [],
   "source": [
    "def combine_results(df_ground, cluster_dict):\n",
    "    \"\"\"\n",
    "    Returns dataframe of all documents and each model's assigned cluster\n",
    "\n",
    "    Arguments:\n",
    "        df_ground: dataframe of original documents with associated ground truth\n",
    "                   labels\n",
    "        cluster_dict: dict, keys as column name for specific model and value as\n",
    "                      best clusters HDBSCAN object\n",
    "\n",
    "    Returns:\n",
    "        df_combined: dataframe of all documents with labels from\n",
    "                     best clusters for each model\n",
    "\n",
    "    \"\"\"\n",
    "\n",
    "    df_combined = df_ground.copy()\n",
    "    \n",
    "    for key, value in cluster_dict.items():\n",
    "        df_combined[key] = value.labels_\n",
    "    \n",
    "    return df_combined"
   ]
  },
  {
   "cell_type": "code",
   "execution_count": null,
   "metadata": {
    "execution": {
     "iopub.execute_input": "2023-02-14T18:45:52.481841Z",
     "iopub.status.busy": "2023-02-14T18:45:52.479965Z",
     "iopub.status.idle": "2023-02-14T18:45:52.491447Z",
     "shell.execute_reply": "2023-02-14T18:45:52.490401Z",
     "shell.execute_reply.started": "2023-02-14T18:45:52.481789Z"
    },
    "id": "qS26FaZPS3-U"
   },
   "outputs": [],
   "source": [
    "def summarize_results(results_dict, results_df):\n",
    "    \"\"\"\n",
    "    Returns a table summarizing each model's performance compared to ground\n",
    "    truth labels and the model's hyperparametes\n",
    "\n",
    "    Arguments:\n",
    "        results_dict: dict, key is the model name and value is a list of: \n",
    "                      model column name in combine_results output, best_params and best_clusters \n",
    "                      for each model (e.g. ['label_use', best_params_use, trials_use])\n",
    "        results_df: dataframe output of combine_results function; dataframe of all documents \n",
    "                    with labels from best clusters for each model\n",
    "\n",
    "    Returns:\n",
    "        df_final: dataframe with each row including a model name, calculated ARI and NMI,\n",
    "                  loss, label count, and hyperparameters of best model\n",
    "\n",
    "    \"\"\"\n",
    "    \n",
    "    summary = []\n",
    "\n",
    "    for key, value in results_dict.items():\n",
    "        ground_label = results_df['category'].values\n",
    "        predicted_label = results_df[value[0]].values\n",
    "        \n",
    "        ari = np.round(adjusted_rand_score(ground_label, predicted_label), 3)\n",
    "        nmi = np.round(normalized_mutual_info_score(ground_label, predicted_label), 3)\n",
    "        loss = value[2].best_trial['result']['loss']\n",
    "        label_count = value[2].best_trial['result']['label_count']\n",
    "        n_neighbors = value[1]['n_neighbors']\n",
    "        n_components = value[1]['n_components']\n",
    "        min_cluster_size = value[1]['min_cluster_size']\n",
    "        random_state = value[1]['random_state']\n",
    "        \n",
    "        summary.append([key, ari, nmi, loss, label_count, n_neighbors, n_components, \n",
    "                        min_cluster_size, random_state])\n",
    "\n",
    "    df_final = pd.DataFrame(summary, columns=['Model', 'ARI', 'NMI', 'loss', \n",
    "                                              'label_count', 'n_neighbors',\n",
    "                                              'n_components', 'min_cluster_size',\n",
    "                                              'random_state'])\n",
    "    \n",
    "    return df_final.sort_values(by='NMI', ascending=False)"
   ]
  },
  {
   "cell_type": "code",
   "execution_count": null,
   "metadata": {
    "execution": {
     "iopub.execute_input": "2023-02-14T18:45:52.877294Z",
     "iopub.status.busy": "2023-02-14T18:45:52.876914Z",
     "iopub.status.idle": "2023-02-14T18:45:52.886008Z",
     "shell.execute_reply": "2023-02-14T18:45:52.884972Z",
     "shell.execute_reply.started": "2023-02-14T18:45:52.877264Z"
    },
    "id": "BEMl6Bq2S5kc"
   },
   "outputs": [],
   "source": [
    "def plot_clusters(embeddings, clusters, n_neighbors=15, min_dist=0.1):\n",
    "    \"\"\"\n",
    "    Reduce dimensionality of best clusters and plot in 2D\n",
    "\n",
    "    Arguments:\n",
    "        embeddings: embeddings to use\n",
    "        clusteres: HDBSCAN object of clusters\n",
    "        n_neighbors: float, UMAP hyperparameter n_neighbors\n",
    "        min_dist: float, UMAP hyperparameter min_dist for effective\n",
    "                  minimum distance between embedded points\n",
    "\n",
    "    \"\"\"\n",
    "    umap_data = umap.UMAP(n_neighbors=n_neighbors, \n",
    "                          n_components=2, \n",
    "                          min_dist = min_dist,  \n",
    "                          #metric='cosine',\n",
    "                          random_state=42).fit_transform(embeddings)\n",
    "\n",
    "    point_size = 100.0 / np.sqrt(embeddings.shape[0])\n",
    "    \n",
    "    result = pd.DataFrame(umap_data, columns=['x', 'y'])\n",
    "    result['labels'] = clusters.labels_\n",
    "\n",
    "    fig, ax = plt.subplots(figsize=(14, 8))\n",
    "    outliers = result[result.labels == -1]\n",
    "    clustered = result[result.labels != -1]\n",
    "    plt.scatter(outliers.x, outliers.y, color = 'lightgrey', s=point_size)\n",
    "    plt.scatter(clustered.x, clustered.y, c=clustered.labels, s=point_size, cmap='jet')\n",
    "    plt.colorbar()\n",
    "    plt.show()"
   ]
  },
  {
   "cell_type": "markdown",
   "metadata": {
    "id": "jYukL816QxMx"
   },
   "source": [
    "##### Кластеризация"
   ]
  },
  {
   "cell_type": "code",
   "execution_count": null,
   "metadata": {
    "id": "K4g26K8BQwkb"
   },
   "outputs": [],
   "source": []
  },
  {
   "cell_type": "code",
   "execution_count": null,
   "metadata": {
    "execution": {
     "iopub.execute_input": "2023-02-12T16:27:35.670750Z",
     "iopub.status.busy": "2023-02-12T16:27:35.669949Z",
     "iopub.status.idle": "2023-02-12T16:27:39.140236Z",
     "shell.execute_reply": "2023-02-12T16:27:39.139205Z",
     "shell.execute_reply.started": "2023-02-12T16:27:35.670712Z"
    },
    "id": "eqfoNjK3VgtG"
   },
   "outputs": [],
   "source": [
    "# clusters_default = generate_clusters(y, \n",
    "#                                      n_neighbors = 3, \n",
    "#                                      n_components = 7, \n",
    "#                                      min_cluster_size = 2,\n",
    "#                                      random_state=42)"
   ]
  },
  {
   "cell_type": "code",
   "execution_count": null,
   "metadata": {
    "execution": {
     "iopub.execute_input": "2023-02-12T16:27:46.392794Z",
     "iopub.status.busy": "2023-02-12T16:27:46.391623Z",
     "iopub.status.idle": "2023-02-12T16:27:46.400090Z",
     "shell.execute_reply": "2023-02-12T16:27:46.398833Z",
     "shell.execute_reply.started": "2023-02-12T16:27:46.392742Z"
    },
    "id": "q_aF3tzsVnZp",
    "outputId": "a61cd2c3-b824-424e-97fd-43bc5bc96911"
   },
   "outputs": [],
   "source": [
    "# labels_def, cost_def = score_clusters(clusters_default)\n",
    "# print(labels_def)\n",
    "# print(cost_def)"
   ]
  },
  {
   "cell_type": "code",
   "execution_count": null,
   "metadata": {
    "execution": {
     "iopub.execute_input": "2023-02-12T16:27:57.909276Z",
     "iopub.status.busy": "2023-02-12T16:27:57.908865Z",
     "iopub.status.idle": "2023-02-12T16:27:57.919093Z",
     "shell.execute_reply": "2023-02-12T16:27:57.917841Z",
     "shell.execute_reply.started": "2023-02-12T16:27:57.909242Z"
    },
    "id": "Az12H-5cV7H7",
    "outputId": "4f05c378-6ce7-40a2-eb1e-e9bf2b7c8fdc"
   },
   "outputs": [],
   "source": [
    "# clusters_default.labels_"
   ]
  },
  {
   "cell_type": "code",
   "execution_count": null,
   "metadata": {
    "id": "IddwzQnGWCZd",
    "outputId": "18e0adaf-de6a-4fc5-eb75-8c499cc13a30"
   },
   "outputs": [],
   "source": [
    "# %%time\n",
    "\n",
    "# space = {\n",
    "#         \"n_neighbors\": range(12,16),\n",
    "#         \"n_components\": range(3,7),\n",
    "#         \"min_cluster_size\": range(2,16),\n",
    "#         \"random_state\": 42\n",
    "#     }\n",
    "\n",
    "# random_use = random_search(y, space, 100)"
   ]
  },
  {
   "cell_type": "code",
   "execution_count": null,
   "metadata": {
    "id": "kVnFWBbRhTjw",
    "outputId": "9c5bf03f-f2c3-45f7-9edb-103321cc0f83"
   },
   "outputs": [],
   "source": [
    "# random_use"
   ]
  },
  {
   "cell_type": "code",
   "execution_count": null,
   "metadata": {
    "execution": {
     "iopub.execute_input": "2023-02-14T18:56:55.833740Z",
     "iopub.status.busy": "2023-02-14T18:56:55.833335Z",
     "iopub.status.idle": "2023-02-14T18:56:55.840170Z",
     "shell.execute_reply": "2023-02-14T18:56:55.838823Z",
     "shell.execute_reply.started": "2023-02-14T18:56:55.833708Z"
    },
    "id": "bT2do8J2iJsD"
   },
   "outputs": [],
   "source": [
    "hspace = {\n",
    "    \"n_neighbors\": hp.choice('n_neighbors', range(3,16)),\n",
    "    \"n_components\": hp.choice('n_components', range(3,16)),\n",
    "    \"min_cluster_size\": hp.choice('min_cluster_size', range(10,16)), # 2, 16\n",
    "    \"random_state\": 42\n",
    "}\n",
    "\n",
    "label_lower = 30\n",
    "label_upper = 100\n",
    "max_evals = 100"
   ]
  },
  {
   "cell_type": "code",
   "execution_count": null,
   "metadata": {
    "collapsed": true,
    "execution": {
     "iopub.execute_input": "2023-02-14T18:56:56.158023Z",
     "iopub.status.busy": "2023-02-14T18:56:56.157718Z",
     "iopub.status.idle": "2023-02-14T19:00:44.059620Z",
     "shell.execute_reply": "2023-02-14T19:00:44.058419Z",
     "shell.execute_reply.started": "2023-02-14T18:56:56.157996Z"
    },
    "id": "ph1eB3k7ioF1",
    "jupyter": {
     "outputs_hidden": true
    },
    "outputId": "622b00d3-d514-422f-f47b-db3ad4a0db70"
   },
   "outputs": [],
   "source": [
    "best_params, best_clusters, trials = bayesian_search(y, \n",
    "                                                    space=hspace, \n",
    "                                                    label_lower=label_lower, \n",
    "                                                    label_upper=label_upper, \n",
    "                                                    max_evals=max_evals)"
   ]
  },
  {
   "cell_type": "code",
   "execution_count": null,
   "metadata": {
    "execution": {
     "iopub.execute_input": "2023-02-14T19:01:15.809389Z",
     "iopub.status.busy": "2023-02-14T19:01:15.808970Z",
     "iopub.status.idle": "2023-02-14T19:01:15.818865Z",
     "shell.execute_reply": "2023-02-14T19:01:15.817590Z",
     "shell.execute_reply.started": "2023-02-14T19:01:15.809358Z"
    },
    "id": "ssNwCPUiix2I",
    "outputId": "576f2750-5cc4-4257-cb63-e2609439c172"
   },
   "outputs": [],
   "source": [
    "# то что в принте выше топ параметры\n",
    "trials.best_trial"
   ]
  },
  {
   "cell_type": "code",
   "execution_count": null,
   "metadata": {
    "execution": {
     "iopub.execute_input": "2023-02-14T19:01:16.780003Z",
     "iopub.status.busy": "2023-02-14T19:01:16.779175Z",
     "iopub.status.idle": "2023-02-14T19:01:16.788781Z",
     "shell.execute_reply": "2023-02-14T19:01:16.787649Z",
     "shell.execute_reply.started": "2023-02-14T19:01:16.779952Z"
    },
    "id": "UafGXlAFtamS",
    "outputId": "da786f5e-3590-4353-8dda-a64e66b625a1"
   },
   "outputs": [],
   "source": [
    "best_clusters.labels_[0:100]"
   ]
  },
  {
   "cell_type": "code",
   "execution_count": null,
   "metadata": {
    "execution": {
     "iopub.execute_input": "2023-02-14T19:01:19.426780Z",
     "iopub.status.busy": "2023-02-14T19:01:19.426214Z",
     "iopub.status.idle": "2023-02-14T19:01:19.433376Z",
     "shell.execute_reply": "2023-02-14T19:01:19.432429Z",
     "shell.execute_reply.started": "2023-02-14T19:01:19.426736Z"
    },
    "id": "S2_NgvJDtlDk",
    "outputId": "1104c149-8133-46c6-d941-f6d78bc80546"
   },
   "outputs": [],
   "source": [
    "best_n_neighbors = best_params['n_neighbors']\n",
    "best_params"
   ]
  },
  {
   "cell_type": "code",
   "execution_count": null,
   "metadata": {
    "execution": {
     "iopub.execute_input": "2023-02-14T19:01:20.326566Z",
     "iopub.status.busy": "2023-02-14T19:01:20.325770Z",
     "iopub.status.idle": "2023-02-14T19:01:22.170462Z",
     "shell.execute_reply": "2023-02-14T19:01:22.169485Z",
     "shell.execute_reply.started": "2023-02-14T19:01:20.326505Z"
    },
    "id": "kJYSoTbai25w",
    "outputId": "f6c119bb-749f-497e-cfe6-ee3413b85bfd"
   },
   "outputs": [],
   "source": [
    "plot_clusters(y, best_clusters)\n",
    "# plot_clusters(y, clusters_default)"
   ]
  },
  {
   "cell_type": "code",
   "execution_count": null,
   "metadata": {
    "execution": {
     "iopub.execute_input": "2023-02-14T19:01:25.637151Z",
     "iopub.status.busy": "2023-02-14T19:01:25.636672Z",
     "iopub.status.idle": "2023-02-14T19:01:25.664476Z",
     "shell.execute_reply": "2023-02-14T19:01:25.662032Z",
     "shell.execute_reply.started": "2023-02-14T19:01:25.637109Z"
    },
    "id": "UdIxhgvtuBT7",
    "outputId": "855facc8-e152-4c83-a77e-52029f038127"
   },
   "outputs": [],
   "source": [
    "df_w_descr['labels'] = best_clusters.labels_\n",
    "# df_w_descr['labels'] = clusters_default.labels_"
   ]
  },
  {
   "cell_type": "code",
   "execution_count": null,
   "metadata": {
    "execution": {
     "iopub.execute_input": "2023-02-14T19:01:26.852335Z",
     "iopub.status.busy": "2023-02-14T19:01:26.851847Z",
     "iopub.status.idle": "2023-02-14T19:01:26.868606Z",
     "shell.execute_reply": "2023-02-14T19:01:26.867572Z",
     "shell.execute_reply.started": "2023-02-14T19:01:26.852288Z"
    },
    "id": "vkDi07QauIrv",
    "outputId": "ea25617a-80be-4371-8f25-5bc4744b8cac"
   },
   "outputs": [],
   "source": [
    "df_w_descr.head()"
   ]
  },
  {
   "cell_type": "code",
   "execution_count": null,
   "metadata": {
    "execution": {
     "iopub.execute_input": "2023-02-14T19:01:29.578998Z",
     "iopub.status.busy": "2023-02-14T19:01:29.578623Z",
     "iopub.status.idle": "2023-02-14T19:01:29.595159Z",
     "shell.execute_reply": "2023-02-14T19:01:29.594107Z",
     "shell.execute_reply.started": "2023-02-14T19:01:29.578967Z"
    },
    "id": "1VFhLErouTer",
    "outputId": "875f48de-8188-430b-d3d1-3fff0abd26a4"
   },
   "outputs": [],
   "source": [
    "df_w_descr.groupby('labels', as_index=False)[['url_host']].count().sort_values(by='url_host', ascending=False)"
   ]
  },
  {
   "cell_type": "code",
   "execution_count": null,
   "metadata": {
    "execution": {
     "iopub.execute_input": "2023-02-14T19:01:37.732316Z",
     "iopub.status.busy": "2023-02-14T19:01:37.731931Z",
     "iopub.status.idle": "2023-02-14T19:01:37.746123Z",
     "shell.execute_reply": "2023-02-14T19:01:37.745156Z",
     "shell.execute_reply.started": "2023-02-14T19:01:37.732286Z"
    },
    "id": "tf3o9r2wufA_",
    "outputId": "f05e88d8-4cc5-4008-9a5b-77f446072f58"
   },
   "outputs": [],
   "source": [
    "df_w_descr.loc[df_w_descr.labels==5]"
   ]
  },
  {
   "cell_type": "code",
   "execution_count": null,
   "metadata": {
    "execution": {
     "iopub.execute_input": "2023-02-14T19:01:42.307096Z",
     "iopub.status.busy": "2023-02-14T19:01:42.306724Z",
     "iopub.status.idle": "2023-02-14T19:01:42.321632Z",
     "shell.execute_reply": "2023-02-14T19:01:42.320585Z",
     "shell.execute_reply.started": "2023-02-14T19:01:42.307064Z"
    }
   },
   "outputs": [],
   "source": [
    "df_w_descr.loc[df_w_descr.labels==15]"
   ]
  },
  {
   "cell_type": "code",
   "execution_count": null,
   "metadata": {
    "id": "JlwVEoekvSvm"
   },
   "outputs": [],
   "source": [
    "# df_w_descr.to_csv('labels.csv', index=False)"
   ]
  },
  {
   "cell_type": "markdown",
   "metadata": {},
   "source": [
    "### Кластеры 2 уровня"
   ]
  },
  {
   "cell_type": "code",
   "execution_count": null,
   "metadata": {
    "execution": {
     "iopub.execute_input": "2023-02-14T19:04:08.415856Z",
     "iopub.status.busy": "2023-02-14T19:04:08.415136Z",
     "iopub.status.idle": "2023-02-14T19:04:08.459490Z",
     "shell.execute_reply": "2023-02-14T19:04:08.458479Z",
     "shell.execute_reply.started": "2023-02-14T19:04:08.415810Z"
    }
   },
   "outputs": [],
   "source": [
    "labels_gr = df_w_descr.loc[df_w_descr.labels!=-1].groupby(['labels'], as_index=False)[['url_host']].count()\n",
    "\n",
    "x2 = np.empty([labels_gr.shape[0], 768])\n",
    "\n",
    "for i, lab in enumerate(labels_gr.labels.unique()):\n",
    "    rows = list(df_w_descr.loc[df_w_descr.labels==lab].index)\n",
    "    x2[i] = y[rows, :].mean(axis=0)\n",
    "    \n",
    "y2 = x2.copy()"
   ]
  },
  {
   "cell_type": "code",
   "execution_count": null,
   "metadata": {
    "execution": {
     "iopub.execute_input": "2023-02-14T19:04:09.723045Z",
     "iopub.status.busy": "2023-02-14T19:04:09.722678Z",
     "iopub.status.idle": "2023-02-14T19:04:09.732824Z",
     "shell.execute_reply": "2023-02-14T19:04:09.731728Z",
     "shell.execute_reply.started": "2023-02-14T19:04:09.723017Z"
    }
   },
   "outputs": [],
   "source": [
    "labels_gr.head()"
   ]
  },
  {
   "cell_type": "code",
   "execution_count": null,
   "metadata": {
    "execution": {
     "iopub.execute_input": "2023-02-14T19:04:12.888101Z",
     "iopub.status.busy": "2023-02-14T19:04:12.887377Z",
     "iopub.status.idle": "2023-02-14T19:04:12.894351Z",
     "shell.execute_reply": "2023-02-14T19:04:12.893070Z",
     "shell.execute_reply.started": "2023-02-14T19:04:12.888062Z"
    }
   },
   "outputs": [],
   "source": [
    "print(y2.shape)"
   ]
  },
  {
   "cell_type": "code",
   "execution_count": null,
   "metadata": {
    "execution": {
     "iopub.execute_input": "2023-02-14T19:04:15.467136Z",
     "iopub.status.busy": "2023-02-14T19:04:15.466378Z",
     "iopub.status.idle": "2023-02-14T19:04:15.476514Z",
     "shell.execute_reply": "2023-02-14T19:04:15.475603Z",
     "shell.execute_reply.started": "2023-02-14T19:04:15.467096Z"
    }
   },
   "outputs": [],
   "source": [
    "labels_gr.to_csv('labels_gr.csv', index=False)\n",
    "np.save('y2.npy', y2)"
   ]
  },
  {
   "cell_type": "code",
   "execution_count": null,
   "metadata": {
    "collapsed": true,
    "execution": {
     "iopub.execute_input": "2023-02-14T19:04:28.890573Z",
     "iopub.status.busy": "2023-02-14T19:04:28.890163Z",
     "iopub.status.idle": "2023-02-14T19:06:36.111035Z",
     "shell.execute_reply": "2023-02-14T19:06:36.109913Z",
     "shell.execute_reply.started": "2023-02-14T19:04:28.890531Z"
    },
    "jupyter": {
     "outputs_hidden": true
    }
   },
   "outputs": [],
   "source": [
    "hspace = {\n",
    "    \"n_neighbors\": hp.choice('n_neighbors', range(3,16)), # range(3,16)\n",
    "    \"n_components\": hp.choice('n_components', range(3,16)),\n",
    "    \"min_cluster_size\": hp.choice('min_cluster_size', range(2,16)), # 2, 16\n",
    "    \"random_state\": 42\n",
    "}\n",
    "\n",
    "label_lower = 30\n",
    "label_upper = 100\n",
    "max_evals = 100\n",
    "\n",
    "\n",
    "best_params, best_clusters, trials = bayesian_search(y2, \n",
    "                                                    space=hspace, \n",
    "                                                    label_lower=label_lower, \n",
    "                                                    label_upper=label_upper, \n",
    "                                                    max_evals=max_evals)"
   ]
  },
  {
   "cell_type": "code",
   "execution_count": null,
   "metadata": {
    "execution": {
     "iopub.execute_input": "2023-02-14T19:06:51.231359Z",
     "iopub.status.busy": "2023-02-14T19:06:51.230825Z",
     "iopub.status.idle": "2023-02-14T19:06:51.244361Z",
     "shell.execute_reply": "2023-02-14T19:06:51.243345Z",
     "shell.execute_reply.started": "2023-02-14T19:06:51.231315Z"
    }
   },
   "outputs": [],
   "source": [
    "trials.best_trial"
   ]
  },
  {
   "cell_type": "code",
   "execution_count": null,
   "metadata": {
    "execution": {
     "iopub.execute_input": "2023-02-14T19:06:51.971898Z",
     "iopub.status.busy": "2023-02-14T19:06:51.971509Z",
     "iopub.status.idle": "2023-02-14T19:06:51.979365Z",
     "shell.execute_reply": "2023-02-14T19:06:51.978395Z",
     "shell.execute_reply.started": "2023-02-14T19:06:51.971867Z"
    }
   },
   "outputs": [],
   "source": [
    "best_clusters.labels_"
   ]
  },
  {
   "cell_type": "code",
   "execution_count": null,
   "metadata": {
    "execution": {
     "iopub.execute_input": "2023-02-14T19:06:54.996312Z",
     "iopub.status.busy": "2023-02-14T19:06:54.995918Z",
     "iopub.status.idle": "2023-02-14T19:06:55.002982Z",
     "shell.execute_reply": "2023-02-14T19:06:55.001743Z",
     "shell.execute_reply.started": "2023-02-14T19:06:54.996277Z"
    }
   },
   "outputs": [],
   "source": [
    "best_params"
   ]
  },
  {
   "cell_type": "code",
   "execution_count": null,
   "metadata": {
    "execution": {
     "iopub.execute_input": "2023-02-14T19:06:55.882169Z",
     "iopub.status.busy": "2023-02-14T19:06:55.880981Z",
     "iopub.status.idle": "2023-02-14T19:06:56.918638Z",
     "shell.execute_reply": "2023-02-14T19:06:56.917682Z",
     "shell.execute_reply.started": "2023-02-14T19:06:55.882117Z"
    }
   },
   "outputs": [],
   "source": [
    "plot_clusters(y2, best_clusters)"
   ]
  },
  {
   "cell_type": "code",
   "execution_count": null,
   "metadata": {
    "execution": {
     "iopub.execute_input": "2023-02-14T19:07:01.610059Z",
     "iopub.status.busy": "2023-02-14T19:07:01.609629Z",
     "iopub.status.idle": "2023-02-14T19:07:01.616200Z",
     "shell.execute_reply": "2023-02-14T19:07:01.614904Z",
     "shell.execute_reply.started": "2023-02-14T19:07:01.610023Z"
    }
   },
   "outputs": [],
   "source": [
    "labels_gr['labels2'] = best_clusters.labels_"
   ]
  },
  {
   "cell_type": "code",
   "execution_count": null,
   "metadata": {
    "execution": {
     "iopub.execute_input": "2023-02-14T19:07:26.890665Z",
     "iopub.status.busy": "2023-02-14T19:07:26.890243Z",
     "iopub.status.idle": "2023-02-14T19:07:26.913705Z",
     "shell.execute_reply": "2023-02-14T19:07:26.912633Z",
     "shell.execute_reply.started": "2023-02-14T19:07:26.890630Z"
    }
   },
   "outputs": [],
   "source": [
    "df_w_descr = df_w_descr.merge(labels_gr[['labels', 'labels2']], how='left')"
   ]
  },
  {
   "cell_type": "code",
   "execution_count": null,
   "metadata": {
    "execution": {
     "iopub.execute_input": "2023-02-14T19:07:32.721548Z",
     "iopub.status.busy": "2023-02-14T19:07:32.720364Z",
     "iopub.status.idle": "2023-02-14T19:07:32.742003Z",
     "shell.execute_reply": "2023-02-14T19:07:32.740764Z",
     "shell.execute_reply.started": "2023-02-14T19:07:32.721482Z"
    }
   },
   "outputs": [],
   "source": [
    "df_w_descr.groupby('labels2', as_index=False)[['labels']].count().sort_values(by='labels', ascending=False)"
   ]
  },
  {
   "cell_type": "code",
   "execution_count": null,
   "metadata": {
    "execution": {
     "iopub.execute_input": "2023-02-14T19:07:37.037658Z",
     "iopub.status.busy": "2023-02-14T19:07:37.036453Z",
     "iopub.status.idle": "2023-02-14T19:07:37.052571Z",
     "shell.execute_reply": "2023-02-14T19:07:37.051344Z",
     "shell.execute_reply.started": "2023-02-14T19:07:37.037608Z"
    }
   },
   "outputs": [],
   "source": [
    "df_w_descr.head()"
   ]
  },
  {
   "cell_type": "code",
   "execution_count": null,
   "metadata": {
    "execution": {
     "iopub.execute_input": "2023-02-14T19:09:00.429356Z",
     "iopub.status.busy": "2023-02-14T19:09:00.428970Z",
     "iopub.status.idle": "2023-02-14T19:09:00.440846Z",
     "shell.execute_reply": "2023-02-14T19:09:00.439562Z",
     "shell.execute_reply.started": "2023-02-14T19:09:00.429326Z"
    }
   },
   "outputs": [],
   "source": [
    "df_w_descr.loc[df_w_descr.labels2==5]"
   ]
  },
  {
   "cell_type": "code",
   "execution_count": null,
   "metadata": {
    "execution": {
     "iopub.execute_input": "2023-02-14T19:09:01.457155Z",
     "iopub.status.busy": "2023-02-14T19:09:01.456789Z",
     "iopub.status.idle": "2023-02-14T19:09:01.464453Z",
     "shell.execute_reply": "2023-02-14T19:09:01.463166Z",
     "shell.execute_reply.started": "2023-02-14T19:09:01.457126Z"
    }
   },
   "outputs": [],
   "source": [
    "df_w_descr.labels2 = df_w_descr.labels2.fillna(-1).astype(int)"
   ]
  },
  {
   "cell_type": "code",
   "execution_count": null,
   "metadata": {
    "execution": {
     "iopub.execute_input": "2023-02-12T17:01:50.509763Z",
     "iopub.status.busy": "2023-02-12T17:01:50.509293Z",
     "iopub.status.idle": "2023-02-12T17:01:50.607304Z",
     "shell.execute_reply": "2023-02-12T17:01:50.606193Z",
     "shell.execute_reply.started": "2023-02-12T17:01:50.509720Z"
    }
   },
   "outputs": [],
   "source": [
    "# df_w_descr.to_csv('labels.csv', index=False)"
   ]
  },
  {
   "cell_type": "markdown",
   "metadata": {},
   "source": [
    "### Добавление сжатых векторов сайтов"
   ]
  },
  {
   "cell_type": "code",
   "execution_count": null,
   "metadata": {
    "execution": {
     "iopub.execute_input": "2023-02-14T19:09:49.762324Z",
     "iopub.status.busy": "2023-02-14T19:09:49.761935Z",
     "iopub.status.idle": "2023-02-14T19:09:51.418834Z",
     "shell.execute_reply": "2023-02-14T19:09:51.417784Z",
     "shell.execute_reply.started": "2023-02-14T19:09:49.762295Z"
    }
   },
   "outputs": [],
   "source": [
    "umap_embeddings = (umap.UMAP(n_neighbors = best_n_neighbors, \n",
    "                            n_components = 24, \n",
    "                            metric = 'cosine', \n",
    "                            random_state = 42)\n",
    "                        .fit_transform(y))"
   ]
  },
  {
   "cell_type": "code",
   "execution_count": null,
   "metadata": {
    "execution": {
     "iopub.execute_input": "2023-02-14T19:09:56.492036Z",
     "iopub.status.busy": "2023-02-14T19:09:56.491229Z",
     "iopub.status.idle": "2023-02-14T19:09:56.526910Z",
     "shell.execute_reply": "2023-02-14T19:09:56.525919Z",
     "shell.execute_reply.started": "2023-02-14T19:09:56.491989Z"
    }
   },
   "outputs": [],
   "source": [
    "df_umap_embeddings = pd.DataFrame(umap_embeddings)\n",
    "df_umap_embeddings.head()"
   ]
  },
  {
   "cell_type": "code",
   "execution_count": null,
   "metadata": {
    "execution": {
     "iopub.execute_input": "2023-02-14T19:10:20.242935Z",
     "iopub.status.busy": "2023-02-14T19:10:20.242446Z",
     "iopub.status.idle": "2023-02-14T19:10:20.250959Z",
     "shell.execute_reply": "2023-02-14T19:10:20.249724Z",
     "shell.execute_reply.started": "2023-02-14T19:10:20.242892Z"
    }
   },
   "outputs": [],
   "source": [
    "umap_embeddings.shape"
   ]
  },
  {
   "cell_type": "code",
   "execution_count": null,
   "metadata": {
    "execution": {
     "iopub.execute_input": "2023-02-14T19:10:31.699223Z",
     "iopub.status.busy": "2023-02-14T19:10:31.698733Z",
     "iopub.status.idle": "2023-02-14T19:10:31.713958Z",
     "shell.execute_reply": "2023-02-14T19:10:31.712694Z",
     "shell.execute_reply.started": "2023-02-14T19:10:31.699178Z"
    }
   },
   "outputs": [],
   "source": [
    "umap_embeddings[0]"
   ]
  },
  {
   "cell_type": "code",
   "execution_count": null,
   "metadata": {
    "execution": {
     "iopub.execute_input": "2023-02-14T19:11:20.256132Z",
     "iopub.status.busy": "2023-02-14T19:11:20.255722Z",
     "iopub.status.idle": "2023-02-14T19:11:20.264327Z",
     "shell.execute_reply": "2023-02-14T19:11:20.263190Z",
     "shell.execute_reply.started": "2023-02-14T19:11:20.256100Z"
    }
   },
   "outputs": [],
   "source": [
    "np.save('y_umap.npy', umap_embeddings)"
   ]
  },
  {
   "cell_type": "code",
   "execution_count": null,
   "metadata": {
    "execution": {
     "iopub.execute_input": "2023-02-12T17:12:20.554451Z",
     "iopub.status.busy": "2023-02-12T17:12:20.554062Z",
     "iopub.status.idle": "2023-02-12T17:12:20.561997Z",
     "shell.execute_reply": "2023-02-12T17:12:20.560777Z",
     "shell.execute_reply.started": "2023-02-12T17:12:20.554419Z"
    }
   },
   "outputs": [],
   "source": [
    "# df_w_descr = pd.concat([df_w_descr, df_umap_embeddings], axis=1)"
   ]
  },
  {
   "cell_type": "code",
   "execution_count": null,
   "metadata": {
    "execution": {
     "iopub.execute_input": "2023-02-14T19:11:38.145314Z",
     "iopub.status.busy": "2023-02-14T19:11:38.144933Z",
     "iopub.status.idle": "2023-02-14T19:11:38.194023Z",
     "shell.execute_reply": "2023-02-14T19:11:38.193108Z",
     "shell.execute_reply.started": "2023-02-14T19:11:38.145281Z"
    }
   },
   "outputs": [],
   "source": [
    "df_w_descr.to_csv('labels.csv', index=False)"
   ]
  },
  {
   "cell_type": "markdown",
   "metadata": {
    "id": "DtRj9KyYglmK"
   },
   "source": [
    "### Автолейблинг"
   ]
  },
  {
   "cell_type": "code",
   "execution_count": null,
   "metadata": {
    "execution": {
     "iopub.execute_input": "2023-02-14T19:11:49.664307Z",
     "iopub.status.busy": "2023-02-14T19:11:49.663822Z",
     "iopub.status.idle": "2023-02-14T19:11:49.668838Z",
     "shell.execute_reply": "2023-02-14T19:11:49.667762Z",
     "shell.execute_reply.started": "2023-02-14T19:11:49.664265Z"
    },
    "id": "YS4vbmdfj4Rr",
    "outputId": "7e416c9a-d6fd-4f3f-a728-3a3024a1e290"
   },
   "outputs": [],
   "source": [
    "# !pip install -U pip setuptools wheel\n",
    "# !pip install -U spacy\n",
    "# !python -m spacy download ru_core_news_sm"
   ]
  },
  {
   "cell_type": "code",
   "execution_count": null,
   "metadata": {
    "execution": {
     "iopub.execute_input": "2023-02-14T19:11:49.852999Z",
     "iopub.status.busy": "2023-02-14T19:11:49.852648Z",
     "iopub.status.idle": "2023-02-14T19:11:49.858097Z",
     "shell.execute_reply": "2023-02-14T19:11:49.856728Z",
     "shell.execute_reply.started": "2023-02-14T19:11:49.852970Z"
    },
    "id": "4yNv-7MUgebQ"
   },
   "outputs": [],
   "source": [
    "# import collections\n",
    "# from pathlib import Path\n",
    "# import numpy as np\n",
    "# import pandas as pd\n",
    "# import spacy\n",
    "# from spacy import displacy"
   ]
  },
  {
   "cell_type": "code",
   "execution_count": null,
   "metadata": {
    "execution": {
     "iopub.execute_input": "2023-02-14T19:11:50.052811Z",
     "iopub.status.busy": "2023-02-14T19:11:50.051011Z",
     "iopub.status.idle": "2023-02-14T19:11:50.057600Z",
     "shell.execute_reply": "2023-02-14T19:11:50.056575Z",
     "shell.execute_reply.started": "2023-02-14T19:11:50.052769Z"
    },
    "id": "fRef9vfXgee9"
   },
   "outputs": [],
   "source": [
    "# nlp = spacy.load(\"ru_core_news_sm\")"
   ]
  },
  {
   "cell_type": "code",
   "execution_count": null,
   "metadata": {
    "execution": {
     "iopub.execute_input": "2023-02-14T19:11:50.237530Z",
     "iopub.status.busy": "2023-02-14T19:11:50.237216Z",
     "iopub.status.idle": "2023-02-14T19:11:50.242602Z",
     "shell.execute_reply": "2023-02-14T19:11:50.241587Z",
     "shell.execute_reply.started": "2023-02-14T19:11:50.237491Z"
    },
    "id": "4NZ5rldVjJLE",
    "outputId": "46fcc6a1-48c9-4eed-a867-ad9ef6abd651"
   },
   "outputs": [],
   "source": [
    "# labels = pd.read_csv('labels.csv')\n",
    "\n",
    "# df = pd.read_excel('sites.xlsx')\n",
    "# df_w_descr = df.loc[~df.text.isna()]\n",
    "\n",
    "# replaces = ['К основным результатамОбратная связь о специальных возможностях  ',\n",
    "#             'поиск картинки видео карты товары переводчик все сервисы ',\n",
    "#             'Читать ещё', 'Скрыть Меню ', ' Волгоград Google Bing Сообщить об ошибке Настройки Я.ру',\n",
    "#             'Быстрый ответ:Google ', 'Быстрый ответ:Сми2 - smi2.ru ', 'Быстрый ответ:Sape.ru ',\n",
    "#             'Меню ', 'Статья в Википедии ',\n",
    "#             'Некоторые ссылки отсутствуют в результатах поиска в силу требований применимого законодательства. ',\n",
    "#             'Подробнее ', 'Навигационный ответ ', 'Владелец сайта предпочёл скрыть описание страницы. ']\n",
    "# for el in replaces:\n",
    "#   df_w_descr['text'] = df_w_descr['text'].str.replace(el, '')\n",
    "\n",
    "# labels = labels.merge(df_w_descr[['text', 'url_host']], how='left')\n",
    "# labels"
   ]
  },
  {
   "cell_type": "code",
   "execution_count": null,
   "metadata": {
    "execution": {
     "iopub.execute_input": "2023-02-14T19:11:50.454054Z",
     "iopub.status.busy": "2023-02-14T19:11:50.453413Z",
     "iopub.status.idle": "2023-02-14T19:11:50.458977Z",
     "shell.execute_reply": "2023-02-14T19:11:50.457946Z",
     "shell.execute_reply.started": "2023-02-14T19:11:50.454009Z"
    },
    "id": "T9HpSWq3q4rR"
   },
   "outputs": [],
   "source": [
    "# example_doc = nlp(list(labels['text'])[4])\n",
    "\n",
    "# print(f'{example_doc}\\n')\n",
    "\n",
    "# for token in example_doc:\n",
    "#     print(token.text, token.lemma_, token.pos_, token.tag_, token.dep_ , token.is_stop)"
   ]
  },
  {
   "cell_type": "code",
   "execution_count": null,
   "metadata": {
    "execution": {
     "iopub.execute_input": "2023-02-14T19:11:50.655432Z",
     "iopub.status.busy": "2023-02-14T19:11:50.654879Z",
     "iopub.status.idle": "2023-02-14T19:11:50.672504Z",
     "shell.execute_reply": "2023-02-14T19:11:50.671535Z",
     "shell.execute_reply.started": "2023-02-14T19:11:50.655391Z"
    },
    "id": "1wvrM69hq4tm"
   },
   "outputs": [],
   "source": [
    "# def get_group(df, category_col, category):\n",
    "#     \"\"\"\n",
    "#     Returns documents of a single category\n",
    "    \n",
    "#     Arguments:\n",
    "#         df: pandas dataframe of documents\n",
    "#         category_col: str, column name corresponding to categories or clusters\n",
    "#         category: int, cluster number to return\n",
    "#     Returns:\n",
    "#         single_category: pandas dataframe with documents from a single category\n",
    "#     \"\"\"\n",
    "    \n",
    "#     single_category = df[df[category_col]==category].reset_index(drop=True)\n",
    "\n",
    "#     return single_category \n",
    "\n",
    "# def most_common(lst, n_words):\n",
    "#     \"\"\"\n",
    "#     Get most common words in a list of words\n",
    "    \n",
    "#     Arguments:\n",
    "#         lst: list, each element is a word\n",
    "#         n_words: number of top common words to return\n",
    "    \n",
    "#     Returns:\n",
    "#         counter.most_common(n_words): counter object of n most common words\n",
    "#     \"\"\"\n",
    "#     counter=collections.Counter(lst)\n",
    "#     return counter.most_common(n_words)\n",
    "\n",
    "# def extract_labels(category_docs, print_word_counts=False):\n",
    "#     \"\"\"\n",
    "#     Extract labels from documents in the same cluster by concatenating\n",
    "#     most common verbs, ojects, and nouns\n",
    "\n",
    "#     Argument:\n",
    "#         category_docs: list of documents, all from the same category or\n",
    "#                        clustering\n",
    "#         print_word_counts: bool, True will print word counts of each type in this category\n",
    "\n",
    "#     Returns:\n",
    "#         label: str, group label derived from concatentating most common\n",
    "#                verb, object, and two most common nouns\n",
    "\n",
    "#     \"\"\"\n",
    "\n",
    "#     verbs = []\n",
    "#     dobjs = []\n",
    "#     nouns = []\n",
    "#     adjs = []\n",
    "    \n",
    "#     verb = ''\n",
    "#     dobj = ''\n",
    "#     noun1 = ''\n",
    "#     noun2 = ''\n",
    "\n",
    "#     # for each document, append verbs, dobs, nouns, and adjectives to \n",
    "#     # running lists for whole cluster\n",
    "#     try:\n",
    "#       for i in range(len(category_docs)):\n",
    "#           doc = nlp(category_docs[i])\n",
    "#           for token in doc:\n",
    "#               if token.is_stop==False:\n",
    "#                   if token.dep_ == 'ROOT':\n",
    "#                       verbs.append(token.text.lower())\n",
    "\n",
    "#                   elif token.dep_=='dobj':\n",
    "#                       dobjs.append(token.lemma_.lower())\n",
    "\n",
    "#                   elif token.pos_=='NOUN':\n",
    "#                       nouns.append(token.lemma_.lower())\n",
    "                      \n",
    "#                   elif token.pos_=='ADJ':\n",
    "#                       adjs.append(token.lemma_.lower())\n",
    "#     except:\n",
    "#       print(\"Something went wrong in doc\", category_docs[i])\n",
    "\n",
    "#     # for printing out for inspection purposes\n",
    "#     if print_word_counts:\n",
    "#         for word_lst in [verbs, dobjs, nouns, adjs]:\n",
    "#             counter=collections.Counter(word_lst)\n",
    "#             print(counter)\n",
    "    \n",
    "#     # take most common words of each form\n",
    "#     if len(verbs) > 0:\n",
    "#         verb = most_common(verbs, 1)[0][0]\n",
    "    \n",
    "#     if len(dobjs) > 0:\n",
    "#         dobj = most_common(dobjs, 1)[0][0]\n",
    "    \n",
    "#     if len(nouns) > 0:\n",
    "#         noun1 = most_common(nouns, 1)[0][0]\n",
    "    \n",
    "#     if len(set(nouns)) > 1:\n",
    "#         noun2 = most_common(nouns, 2)[1][0]\n",
    "    \n",
    "#     # concatenate the most common verb-dobj-noun1-noun2 (if they exist)\n",
    "#     label_words = [verb, dobj]\n",
    "    \n",
    "#     for word in [noun1, noun2]:\n",
    "#         if word not in label_words:\n",
    "#             label_words.append(word)\n",
    "    \n",
    "#     if '' in label_words:\n",
    "#         label_words.remove('')\n",
    "    \n",
    "#     label = '_'.join(label_words)\n",
    "    \n",
    "#     return label\n",
    "\n",
    "# def apply_and_summarize_labels(df, category_col):\n",
    "#     \"\"\"\n",
    "#     Assign groups to original documents and provide group counts\n",
    "\n",
    "#     Arguments:\n",
    "#         df: pandas dataframe of original documents of interest to\n",
    "#             cluster\n",
    "#         category_col: str, column name corresponding to categories or clusters\n",
    "\n",
    "#     Returns:\n",
    "#         summary_df: pandas dataframe with model cluster assignment, number\n",
    "#                     of documents in each cluster and derived labels\n",
    "#     \"\"\"\n",
    "    \n",
    "#     numerical_labels = df[category_col].unique()\n",
    "    \n",
    "#     # create dictionary of the numerical category to the generated label\n",
    "#     label_dict = {}\n",
    "#     for label in numerical_labels:\n",
    "#         current_category = list(get_group(df, category_col, label)['text'])\n",
    "#         label_dict[label] = extract_labels(current_category)\n",
    "        \n",
    "#     # create summary dataframe of numerical labels and counts\n",
    "#     summary_df = (df.groupby(category_col)['text'].count()\n",
    "#                     .reset_index()\n",
    "#                     .rename(columns={'text':'count'})\n",
    "#                     .sort_values('count', ascending=False))\n",
    "    \n",
    "#     # apply generated labels\n",
    "#     summary_df['label'] = summary_df.apply(lambda x: label_dict[x[category_col]], axis = 1)\n",
    "    \n",
    "#     return summary_df\n",
    "\n",
    "# def combine_ground_truth(df_clusters, df_ground, key):\n",
    "#     \"\"\"\n",
    "#     Combines dataframes of documents with extracted and ground truth labels\n",
    "    \n",
    "#     Arguments:\n",
    "#         df_clusters: pandas dataframe, each row as a document with corresponding extracted label\n",
    "#         df_ground: pandas dataframe, each row as a document with corresponding ground truth label\n",
    "#         key: str, key to merge tables on\n",
    "        \n",
    "#     Returns:\n",
    "#         df_combined: pandas dataframe, each row as a document with extracted and ground truth labels\n",
    "#     \"\"\"\n",
    "#     df_combined = pd.merge(df_clusters, df_ground, on=key, how = 'left')\n",
    "#     return df_combined\n",
    "\n",
    "# def get_top_category(df_label, df_summary):\n",
    "#     \"\"\"\n",
    "#     Returns a dataframe comparing a single model's results to ground truth\n",
    "#     label to evalute cluster compositions and derived label relative to labels\n",
    "#     and counts of most commmon ground truth category\n",
    "\n",
    "#     Arguments:\n",
    "#         df_label: pandas dataframe, each row as a document with extracted and ground truth labels\n",
    "#                   (result of `combine_ground_truth` function)\n",
    "#         df_summary: pandas dataframe with model cluster assignment, number\n",
    "#                     of documents in each cluster and derived labels\n",
    "#                     (result from `apply_and_summarize_labels` function)\n",
    "\n",
    "#     Returns:\n",
    "#         df_result: pandas dataframe with each row containing information on\n",
    "#                    each cluster identified by this model, including count,\n",
    "#                    extracted label, most represented ground truth label name,\n",
    "#                    count and percentage of that group\n",
    "#     \"\"\"\n",
    "#     df_label_ground = (df_label.groupby('label')\n",
    "#                       .agg(top_ground_category=('category', lambda x:x.value_counts().index[0]), \n",
    "#                            top_cat_count = ('category', lambda x:x.value_counts()[0]))\n",
    "#                       .reset_index())\n",
    "    \n",
    "#     df_result = pd.merge(df_summary, df_label_ground, on='label', how='left')\n",
    "#     df_result['perc_top_cat'] = df_result.apply(lambda x: int(round(100*x['top_cat_count']/x['count'])), axis=1)\n",
    "    \n",
    "#     return df_result\n",
    "\n"
   ]
  },
  {
   "cell_type": "code",
   "execution_count": null,
   "metadata": {
    "execution": {
     "iopub.execute_input": "2023-02-14T19:11:50.861681Z",
     "iopub.status.busy": "2023-02-14T19:11:50.861331Z",
     "iopub.status.idle": "2023-02-14T19:11:50.866715Z",
     "shell.execute_reply": "2023-02-14T19:11:50.865469Z",
     "shell.execute_reply.started": "2023-02-14T19:11:50.861650Z"
    },
    "id": "fNrIAQ-Sq4wl",
    "outputId": "8b60a4a0-96a4-4f8c-a2b1-ad72fbb67e7e"
   },
   "outputs": [],
   "source": [
    "# example_category = list(get_group(labels, 'labels', 10)['text'])\n",
    "# extract_labels(example_category, True)"
   ]
  },
  {
   "cell_type": "code",
   "execution_count": null,
   "metadata": {
    "execution": {
     "iopub.execute_input": "2023-02-14T19:11:51.058669Z",
     "iopub.status.busy": "2023-02-14T19:11:51.058361Z",
     "iopub.status.idle": "2023-02-14T19:11:51.063403Z",
     "shell.execute_reply": "2023-02-14T19:11:51.061999Z",
     "shell.execute_reply.started": "2023-02-14T19:11:51.058642Z"
    },
    "id": "JLbotZUKq4zD",
    "outputId": "7e00b620-f6f5-4647-8e60-d0509085cbef"
   },
   "outputs": [],
   "source": [
    "# cluster_summary = apply_and_summarize_labels(labels, 'labels')\n",
    "# cluster_summary"
   ]
  },
  {
   "cell_type": "code",
   "execution_count": null,
   "metadata": {
    "execution": {
     "iopub.execute_input": "2023-02-14T19:11:51.271642Z",
     "iopub.status.busy": "2023-02-14T19:11:51.271018Z",
     "iopub.status.idle": "2023-02-14T19:11:51.276720Z",
     "shell.execute_reply": "2023-02-14T19:11:51.275588Z",
     "shell.execute_reply.started": "2023-02-14T19:11:51.271603Z"
    },
    "id": "TT6fsCGxq41x"
   },
   "outputs": [],
   "source": [
    "# labels = labels.merge(cluster_summary[['labels', 'label']], how='left')"
   ]
  },
  {
   "cell_type": "code",
   "execution_count": null,
   "metadata": {
    "execution": {
     "iopub.execute_input": "2023-02-14T19:11:51.489661Z",
     "iopub.status.busy": "2023-02-14T19:11:51.489350Z",
     "iopub.status.idle": "2023-02-14T19:11:51.496331Z",
     "shell.execute_reply": "2023-02-14T19:11:51.495353Z",
     "shell.execute_reply.started": "2023-02-14T19:11:51.489634Z"
    },
    "id": "z5k5pwFJq44r"
   },
   "outputs": [],
   "source": [
    "# labels[['url_host', 'labels', 'label']].to_csv('labels.csv', index=False)"
   ]
  },
  {
   "cell_type": "code",
   "execution_count": null,
   "metadata": {
    "id": "cQu3fEkrq47W"
   },
   "outputs": [],
   "source": []
  }
 ],
 "metadata": {
  "kernelspec": {
   "display_name": "Python 3 (ipykernel)",
   "language": "python",
   "name": "python3"
  },
  "language_info": {
   "codemirror_mode": {
    "name": "ipython",
    "version": 3
   },
   "file_extension": ".py",
   "mimetype": "text/x-python",
   "name": "python",
   "nbconvert_exporter": "python",
   "pygments_lexer": "ipython3",
   "version": "3.9.12"
  }
 },
 "nbformat": 4,
 "nbformat_minor": 4
}
