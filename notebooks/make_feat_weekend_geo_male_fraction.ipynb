{
 "cells": [
  {
   "cell_type": "code",
   "execution_count": 2,
   "metadata": {
    "execution": {
     "iopub.execute_input": "2023-02-24T07:25:43.934178Z",
     "iopub.status.busy": "2023-02-24T07:25:43.933705Z",
     "iopub.status.idle": "2023-02-24T07:25:47.244881Z",
     "shell.execute_reply": "2023-02-24T07:25:47.243464Z",
     "shell.execute_reply.started": "2023-02-24T07:25:43.934142Z"
    }
   },
   "outputs": [],
   "source": [
    "import pandas as pd\n",
    "import numpy as np\n",
    "import requests\n",
    "import json\n"
   ]
  },
  {
   "cell_type": "code",
   "execution_count": 3,
   "metadata": {},
   "outputs": [],
   "source": [
    "LOCAL_DATA_PATH = './context_data/'\n",
    "DATA_FILE = 'competition_data_final_pqt'\n",
    "TARGET_FILE = 'public_train.pqt'"
   ]
  },
  {
   "cell_type": "markdown",
   "metadata": {},
   "source": [
    "### Признаки на основе популяции по гео"
   ]
  },
  {
   "cell_type": "code",
   "execution_count": 4,
   "metadata": {},
   "outputs": [],
   "source": [
    "data = pq.read_table(f'{LOCAL_DATA_PATH}/{DATA_FILE}')\n",
    "data = data.select(['user_id', 'region_name', 'city_name']).to_pandas()"
   ]
  },
  {
   "cell_type": "code",
   "execution_count": 7,
   "metadata": {},
   "outputs": [
    {
     "data": {
      "text/html": [
       "<div>\n",
       "<style scoped>\n",
       "    .dataframe tbody tr th:only-of-type {\n",
       "        vertical-align: middle;\n",
       "    }\n",
       "\n",
       "    .dataframe tbody tr th {\n",
       "        vertical-align: top;\n",
       "    }\n",
       "\n",
       "    .dataframe thead th {\n",
       "        text-align: right;\n",
       "    }\n",
       "</style>\n",
       "<table border=\"1\" class=\"dataframe\">\n",
       "  <thead>\n",
       "    <tr style=\"text-align: right;\">\n",
       "      <th></th>\n",
       "      <th>user_id</th>\n",
       "      <th>region_name</th>\n",
       "      <th>city_name</th>\n",
       "    </tr>\n",
       "  </thead>\n",
       "  <tbody>\n",
       "    <tr>\n",
       "      <th>0</th>\n",
       "      <td>45098</td>\n",
       "      <td>Краснодарский край</td>\n",
       "      <td>Краснодар</td>\n",
       "    </tr>\n",
       "    <tr>\n",
       "      <th>1</th>\n",
       "      <td>45098</td>\n",
       "      <td>Краснодарский край</td>\n",
       "      <td>Краснодар</td>\n",
       "    </tr>\n",
       "    <tr>\n",
       "      <th>2</th>\n",
       "      <td>45098</td>\n",
       "      <td>Краснодарский край</td>\n",
       "      <td>Краснодар</td>\n",
       "    </tr>\n",
       "    <tr>\n",
       "      <th>3</th>\n",
       "      <td>45098</td>\n",
       "      <td>Краснодарский край</td>\n",
       "      <td>Краснодар</td>\n",
       "    </tr>\n",
       "    <tr>\n",
       "      <th>4</th>\n",
       "      <td>45098</td>\n",
       "      <td>Краснодарский край</td>\n",
       "      <td>Краснодар</td>\n",
       "    </tr>\n",
       "  </tbody>\n",
       "</table>\n",
       "</div>"
      ],
      "text/plain": [
       "   user_id         region_name  city_name\n",
       "0    45098  Краснодарский край  Краснодар\n",
       "1    45098  Краснодарский край  Краснодар\n",
       "2    45098  Краснодарский край  Краснодар\n",
       "3    45098  Краснодарский край  Краснодар\n",
       "4    45098  Краснодарский край  Краснодар"
      ]
     },
     "execution_count": 7,
     "metadata": {},
     "output_type": "execute_result"
    }
   ],
   "source": [
    "data.head()"
   ]
  },
  {
   "cell_type": "code",
   "execution_count": 8,
   "metadata": {
    "execution": {
     "iopub.execute_input": "2023-02-23T12:51:29.455868Z",
     "iopub.status.busy": "2023-02-23T12:51:29.454728Z",
     "iopub.status.idle": "2023-02-23T12:51:29.747475Z",
     "shell.execute_reply": "2023-02-23T12:51:29.746319Z",
     "shell.execute_reply.started": "2023-02-23T12:51:29.455816Z"
    }
   },
   "outputs": [],
   "source": [
    "# Скачивание статы по городам\n",
    "\n",
    "geo_stat_url = \"https://raw.githubusercontent.com/hflabs/city/master/city.csv\"\n",
    "geo_stat = pd.read_csv(geo_stat_url)"
   ]
  },
  {
   "cell_type": "code",
   "execution_count": 9,
   "metadata": {
    "execution": {
     "iopub.execute_input": "2023-02-23T12:51:30.637080Z",
     "iopub.status.busy": "2023-02-23T12:51:30.635982Z",
     "iopub.status.idle": "2023-02-23T12:51:30.664061Z",
     "shell.execute_reply": "2023-02-23T12:51:30.662196Z",
     "shell.execute_reply.started": "2023-02-23T12:51:30.637034Z"
    }
   },
   "outputs": [
    {
     "data": {
      "text/html": [
       "<div>\n",
       "<style scoped>\n",
       "    .dataframe tbody tr th:only-of-type {\n",
       "        vertical-align: middle;\n",
       "    }\n",
       "\n",
       "    .dataframe tbody tr th {\n",
       "        vertical-align: top;\n",
       "    }\n",
       "\n",
       "    .dataframe thead th {\n",
       "        text-align: right;\n",
       "    }\n",
       "</style>\n",
       "<table border=\"1\" class=\"dataframe\">\n",
       "  <thead>\n",
       "    <tr style=\"text-align: right;\">\n",
       "      <th></th>\n",
       "      <th>address</th>\n",
       "      <th>postal_code</th>\n",
       "      <th>country</th>\n",
       "      <th>federal_district</th>\n",
       "      <th>region_type</th>\n",
       "      <th>region</th>\n",
       "      <th>area_type</th>\n",
       "      <th>area</th>\n",
       "      <th>city_type</th>\n",
       "      <th>city</th>\n",
       "      <th>...</th>\n",
       "      <th>fias_level</th>\n",
       "      <th>capital_marker</th>\n",
       "      <th>okato</th>\n",
       "      <th>oktmo</th>\n",
       "      <th>tax_office</th>\n",
       "      <th>timezone</th>\n",
       "      <th>geo_lat</th>\n",
       "      <th>geo_lon</th>\n",
       "      <th>population</th>\n",
       "      <th>foundation_year</th>\n",
       "    </tr>\n",
       "  </thead>\n",
       "  <tbody>\n",
       "    <tr>\n",
       "      <th>0</th>\n",
       "      <td>Респ Адыгея, г Адыгейск</td>\n",
       "      <td>385200.0</td>\n",
       "      <td>Россия</td>\n",
       "      <td>Южный</td>\n",
       "      <td>Респ</td>\n",
       "      <td>Адыгея</td>\n",
       "      <td>NaN</td>\n",
       "      <td>NaN</td>\n",
       "      <td>г</td>\n",
       "      <td>Адыгейск</td>\n",
       "      <td>...</td>\n",
       "      <td>4</td>\n",
       "      <td>0</td>\n",
       "      <td>79403000000</td>\n",
       "      <td>79703000001</td>\n",
       "      <td>107</td>\n",
       "      <td>UTC+3</td>\n",
       "      <td>44.878414</td>\n",
       "      <td>39.190289</td>\n",
       "      <td>12689</td>\n",
       "      <td>1969</td>\n",
       "    </tr>\n",
       "    <tr>\n",
       "      <th>1</th>\n",
       "      <td>г Майкоп</td>\n",
       "      <td>385000.0</td>\n",
       "      <td>Россия</td>\n",
       "      <td>Южный</td>\n",
       "      <td>Респ</td>\n",
       "      <td>Адыгея</td>\n",
       "      <td>NaN</td>\n",
       "      <td>NaN</td>\n",
       "      <td>г</td>\n",
       "      <td>Майкоп</td>\n",
       "      <td>...</td>\n",
       "      <td>4</td>\n",
       "      <td>2</td>\n",
       "      <td>79401000000</td>\n",
       "      <td>79701000001</td>\n",
       "      <td>105</td>\n",
       "      <td>UTC+3</td>\n",
       "      <td>44.609827</td>\n",
       "      <td>40.100661</td>\n",
       "      <td>144055</td>\n",
       "      <td>1857</td>\n",
       "    </tr>\n",
       "    <tr>\n",
       "      <th>2</th>\n",
       "      <td>г Горно-Алтайск</td>\n",
       "      <td>649000.0</td>\n",
       "      <td>Россия</td>\n",
       "      <td>Сибирский</td>\n",
       "      <td>Респ</td>\n",
       "      <td>Алтай</td>\n",
       "      <td>NaN</td>\n",
       "      <td>NaN</td>\n",
       "      <td>г</td>\n",
       "      <td>Горно-Алтайск</td>\n",
       "      <td>...</td>\n",
       "      <td>4</td>\n",
       "      <td>2</td>\n",
       "      <td>84401000000</td>\n",
       "      <td>84701000001</td>\n",
       "      <td>400</td>\n",
       "      <td>UTC+7</td>\n",
       "      <td>51.958103</td>\n",
       "      <td>85.960324</td>\n",
       "      <td>62861</td>\n",
       "      <td>1830</td>\n",
       "    </tr>\n",
       "    <tr>\n",
       "      <th>3</th>\n",
       "      <td>Алтайский край, г Алейск</td>\n",
       "      <td>658125.0</td>\n",
       "      <td>Россия</td>\n",
       "      <td>Сибирский</td>\n",
       "      <td>край</td>\n",
       "      <td>Алтайский</td>\n",
       "      <td>NaN</td>\n",
       "      <td>NaN</td>\n",
       "      <td>г</td>\n",
       "      <td>Алейск</td>\n",
       "      <td>...</td>\n",
       "      <td>4</td>\n",
       "      <td>0</td>\n",
       "      <td>1403000000</td>\n",
       "      <td>1703000001</td>\n",
       "      <td>2201</td>\n",
       "      <td>UTC+7</td>\n",
       "      <td>52.492251</td>\n",
       "      <td>82.779361</td>\n",
       "      <td>28528</td>\n",
       "      <td>1913</td>\n",
       "    </tr>\n",
       "    <tr>\n",
       "      <th>4</th>\n",
       "      <td>г Барнаул</td>\n",
       "      <td>656000.0</td>\n",
       "      <td>Россия</td>\n",
       "      <td>Сибирский</td>\n",
       "      <td>край</td>\n",
       "      <td>Алтайский</td>\n",
       "      <td>NaN</td>\n",
       "      <td>NaN</td>\n",
       "      <td>г</td>\n",
       "      <td>Барнаул</td>\n",
       "      <td>...</td>\n",
       "      <td>4</td>\n",
       "      <td>2</td>\n",
       "      <td>1401000000</td>\n",
       "      <td>1701000001</td>\n",
       "      <td>2200</td>\n",
       "      <td>UTC+7</td>\n",
       "      <td>53.347997</td>\n",
       "      <td>83.779806</td>\n",
       "      <td>635585</td>\n",
       "      <td>1730</td>\n",
       "    </tr>\n",
       "  </tbody>\n",
       "</table>\n",
       "<p>5 rows × 24 columns</p>\n",
       "</div>"
      ],
      "text/plain": [
       "                    address  postal_code country federal_district region_type  \\\n",
       "0   Респ Адыгея, г Адыгейск     385200.0  Россия            Южный        Респ   \n",
       "1                  г Майкоп     385000.0  Россия            Южный        Респ   \n",
       "2           г Горно-Алтайск     649000.0  Россия        Сибирский        Респ   \n",
       "3  Алтайский край, г Алейск     658125.0  Россия        Сибирский        край   \n",
       "4                 г Барнаул     656000.0  Россия        Сибирский        край   \n",
       "\n",
       "      region area_type area city_type           city  ... fias_level  \\\n",
       "0     Адыгея       NaN  NaN         г       Адыгейск  ...          4   \n",
       "1     Адыгея       NaN  NaN         г         Майкоп  ...          4   \n",
       "2      Алтай       NaN  NaN         г  Горно-Алтайск  ...          4   \n",
       "3  Алтайский       NaN  NaN         г         Алейск  ...          4   \n",
       "4  Алтайский       NaN  NaN         г        Барнаул  ...          4   \n",
       "\n",
       "  capital_marker        okato        oktmo  tax_office  timezone    geo_lat  \\\n",
       "0              0  79403000000  79703000001         107     UTC+3  44.878414   \n",
       "1              2  79401000000  79701000001         105     UTC+3  44.609827   \n",
       "2              2  84401000000  84701000001         400     UTC+7  51.958103   \n",
       "3              0   1403000000   1703000001        2201     UTC+7  52.492251   \n",
       "4              2   1401000000   1701000001        2200     UTC+7  53.347997   \n",
       "\n",
       "     geo_lon  population foundation_year  \n",
       "0  39.190289       12689            1969  \n",
       "1  40.100661      144055            1857  \n",
       "2  85.960324       62861            1830  \n",
       "3  82.779361       28528            1913  \n",
       "4  83.779806      635585            1730  \n",
       "\n",
       "[5 rows x 24 columns]"
      ]
     },
     "execution_count": 9,
     "metadata": {},
     "output_type": "execute_result"
    }
   ],
   "source": [
    "geo_stat.head()"
   ]
  },
  {
   "cell_type": "code",
   "execution_count": 10,
   "metadata": {
    "execution": {
     "iopub.execute_input": "2023-02-23T12:51:36.991885Z",
     "iopub.status.busy": "2023-02-23T12:51:36.991385Z",
     "iopub.status.idle": "2023-02-23T12:51:36.999659Z",
     "shell.execute_reply": "2023-02-23T12:51:36.998537Z",
     "shell.execute_reply.started": "2023-02-23T12:51:36.991846Z"
    }
   },
   "outputs": [],
   "source": [
    "# Выделяем уникальные названия регионов в датафрейме конкурса и в файле со статой\n",
    "# Так как названия регионов отличаются между файлами, то переименовываю их на единый манер\n",
    "# в файле со статой\n",
    "\n",
    "geo_stat_regions = geo_stat.region.unique()\n",
    "df_regions = data.region_name.unique()"
   ]
  },
  {
   "cell_type": "code",
   "execution_count": 11,
   "metadata": {
    "execution": {
     "iopub.execute_input": "2023-02-23T12:53:02.456409Z",
     "iopub.status.busy": "2023-02-23T12:53:02.455749Z",
     "iopub.status.idle": "2023-02-23T12:53:02.520221Z",
     "shell.execute_reply": "2023-02-23T12:53:02.518726Z",
     "shell.execute_reply.started": "2023-02-23T12:53:02.456362Z"
    }
   },
   "outputs": [],
   "source": [
    "# Вот тут само перименовывание\n",
    "\n",
    "for geo in geo_stat_regions:\n",
    "    true_name = list(filter(lambda x: geo in x, df_regions))\n",
    "    if len(true_name) > 0:\n",
    "        geo_stat.loc[geo_stat.region==geo, 'region'] = true_name[0]"
   ]
  },
  {
   "cell_type": "code",
   "execution_count": 12,
   "metadata": {
    "execution": {
     "iopub.execute_input": "2023-02-23T12:53:03.365315Z",
     "iopub.status.busy": "2023-02-23T12:53:03.364806Z",
     "iopub.status.idle": "2023-02-23T12:53:03.372412Z",
     "shell.execute_reply": "2023-02-23T12:53:03.371353Z",
     "shell.execute_reply.started": "2023-02-23T12:53:03.365247Z"
    }
   },
   "outputs": [],
   "source": [
    "geo_stat = geo_stat[['region', 'federal_district', 'city', 'population', 'capital_marker']]\n",
    "geo_stat.rename(columns={'city': 'city_name', 'region': 'region_name'}, inplace=True)\n",
    "geo_stat = geo_stat.drop_duplicates(subset=['city_name'], keep='first')"
   ]
  },
  {
   "cell_type": "code",
   "execution_count": 13,
   "metadata": {
    "execution": {
     "iopub.execute_input": "2023-02-23T12:53:11.586183Z",
     "iopub.status.busy": "2023-02-23T12:53:11.584879Z",
     "iopub.status.idle": "2023-02-23T12:53:11.678003Z",
     "shell.execute_reply": "2023-02-23T12:53:11.676704Z",
     "shell.execute_reply.started": "2023-02-23T12:53:11.586131Z"
    }
   },
   "outputs": [],
   "source": [
    "# Добавление статы по городам к основному df\n",
    "\n",
    "data = data.merge(geo_stat[['federal_district', 'city_name', 'population', 'capital_marker']],\n",
    "                  how='left', on='city_name')"
   ]
  },
  {
   "cell_type": "code",
   "execution_count": 14,
   "metadata": {
    "execution": {
     "iopub.execute_input": "2023-02-23T12:53:13.890338Z",
     "iopub.status.busy": "2023-02-23T12:53:13.889800Z",
     "iopub.status.idle": "2023-02-23T12:53:13.904628Z",
     "shell.execute_reply": "2023-02-23T12:53:13.902482Z",
     "shell.execute_reply.started": "2023-02-23T12:53:13.890293Z"
    },
    "scrolled": false
   },
   "outputs": [],
   "source": [
    "# Добавление статы по регионам к основному df\n",
    "\n",
    "geo_stat_gr = geo_stat.groupby('region_name', as_index=False)[['population']].sum()\n",
    "geo_stat_gr.columns = ['region_name', 'region_population']\n",
    "data = data.merge(geo_stat_gr, how='left', on='region_name')"
   ]
  },
  {
   "cell_type": "code",
   "execution_count": 15,
   "metadata": {
    "execution": {
     "iopub.execute_input": "2023-02-23T12:53:15.109747Z",
     "iopub.status.busy": "2023-02-23T12:53:15.109196Z",
     "iopub.status.idle": "2023-02-23T12:53:15.129202Z",
     "shell.execute_reply": "2023-02-23T12:53:15.127438Z",
     "shell.execute_reply.started": "2023-02-23T12:53:15.109703Z"
    }
   },
   "outputs": [
    {
     "data": {
      "text/html": [
       "<div>\n",
       "<style scoped>\n",
       "    .dataframe tbody tr th:only-of-type {\n",
       "        vertical-align: middle;\n",
       "    }\n",
       "\n",
       "    .dataframe tbody tr th {\n",
       "        vertical-align: top;\n",
       "    }\n",
       "\n",
       "    .dataframe thead th {\n",
       "        text-align: right;\n",
       "    }\n",
       "</style>\n",
       "<table border=\"1\" class=\"dataframe\">\n",
       "  <thead>\n",
       "    <tr style=\"text-align: right;\">\n",
       "      <th></th>\n",
       "      <th>user_id</th>\n",
       "      <th>region_name</th>\n",
       "      <th>city_name</th>\n",
       "      <th>federal_district</th>\n",
       "      <th>population</th>\n",
       "      <th>capital_marker</th>\n",
       "      <th>region_population</th>\n",
       "    </tr>\n",
       "  </thead>\n",
       "  <tbody>\n",
       "    <tr>\n",
       "      <th>0</th>\n",
       "      <td>45098</td>\n",
       "      <td>Краснодарский край</td>\n",
       "      <td>Краснодар</td>\n",
       "      <td>Южный</td>\n",
       "      <td>744933.0</td>\n",
       "      <td>2.0</td>\n",
       "      <td>2617631.0</td>\n",
       "    </tr>\n",
       "    <tr>\n",
       "      <th>1</th>\n",
       "      <td>45098</td>\n",
       "      <td>Краснодарский край</td>\n",
       "      <td>Краснодар</td>\n",
       "      <td>Южный</td>\n",
       "      <td>744933.0</td>\n",
       "      <td>2.0</td>\n",
       "      <td>2617631.0</td>\n",
       "    </tr>\n",
       "    <tr>\n",
       "      <th>2</th>\n",
       "      <td>45098</td>\n",
       "      <td>Краснодарский край</td>\n",
       "      <td>Краснодар</td>\n",
       "      <td>Южный</td>\n",
       "      <td>744933.0</td>\n",
       "      <td>2.0</td>\n",
       "      <td>2617631.0</td>\n",
       "    </tr>\n",
       "    <tr>\n",
       "      <th>3</th>\n",
       "      <td>45098</td>\n",
       "      <td>Краснодарский край</td>\n",
       "      <td>Краснодар</td>\n",
       "      <td>Южный</td>\n",
       "      <td>744933.0</td>\n",
       "      <td>2.0</td>\n",
       "      <td>2617631.0</td>\n",
       "    </tr>\n",
       "    <tr>\n",
       "      <th>4</th>\n",
       "      <td>45098</td>\n",
       "      <td>Краснодарский край</td>\n",
       "      <td>Краснодар</td>\n",
       "      <td>Южный</td>\n",
       "      <td>744933.0</td>\n",
       "      <td>2.0</td>\n",
       "      <td>2617631.0</td>\n",
       "    </tr>\n",
       "  </tbody>\n",
       "</table>\n",
       "</div>"
      ],
      "text/plain": [
       "   user_id         region_name  city_name federal_district  population  \\\n",
       "0    45098  Краснодарский край  Краснодар            Южный    744933.0   \n",
       "1    45098  Краснодарский край  Краснодар            Южный    744933.0   \n",
       "2    45098  Краснодарский край  Краснодар            Южный    744933.0   \n",
       "3    45098  Краснодарский край  Краснодар            Южный    744933.0   \n",
       "4    45098  Краснодарский край  Краснодар            Южный    744933.0   \n",
       "\n",
       "   capital_marker  region_population  \n",
       "0             2.0          2617631.0  \n",
       "1             2.0          2617631.0  \n",
       "2             2.0          2617631.0  \n",
       "3             2.0          2617631.0  \n",
       "4             2.0          2617631.0  "
      ]
     },
     "execution_count": 15,
     "metadata": {},
     "output_type": "execute_result"
    }
   ],
   "source": [
    "data.head()"
   ]
  },
  {
   "cell_type": "code",
   "execution_count": 16,
   "metadata": {
    "execution": {
     "iopub.execute_input": "2023-02-23T14:10:32.852548Z",
     "iopub.status.busy": "2023-02-23T14:10:32.851949Z",
     "iopub.status.idle": "2023-02-23T14:10:33.589254Z",
     "shell.execute_reply": "2023-02-23T14:10:33.588053Z",
     "shell.execute_reply.started": "2023-02-23T14:10:32.852506Z"
    }
   },
   "outputs": [
    {
     "data": {
      "text/plain": [
       "24"
      ]
     },
     "execution_count": 16,
     "metadata": {},
     "output_type": "execute_result"
    }
   ],
   "source": [
    "gc.collect()"
   ]
  },
  {
   "cell_type": "code",
   "execution_count": 17,
   "metadata": {
    "execution": {
     "iopub.execute_input": "2023-02-23T12:53:33.036058Z",
     "iopub.status.busy": "2023-02-23T12:53:33.034914Z",
     "iopub.status.idle": "2023-02-23T12:53:33.050804Z",
     "shell.execute_reply": "2023-02-23T12:53:33.049197Z",
     "shell.execute_reply.started": "2023-02-23T12:53:33.036013Z"
    }
   },
   "outputs": [],
   "source": [
    "# Подсчет агрегатов по числовым метрикам\n",
    "\n",
    "data = pa.Table.from_pandas(data)\n",
    "\n",
    "df_users_features = data.select(['user_id', 'population', 'capital_marker', 'region_population']).\\\n",
    "                    group_by(['user_id']).aggregate([('population', \"mean\"),\n",
    "                                                     ('capital_marker', \"mean\"),\n",
    "                                                     ('region_population', \"mean\")]).to_pandas()"
   ]
  },
  {
   "cell_type": "code",
   "execution_count": 18,
   "metadata": {
    "execution": {
     "iopub.execute_input": "2023-02-23T12:53:33.922326Z",
     "iopub.status.busy": "2023-02-23T12:53:33.921780Z",
     "iopub.status.idle": "2023-02-23T12:53:34.075923Z",
     "shell.execute_reply": "2023-02-23T12:53:34.074456Z",
     "shell.execute_reply.started": "2023-02-23T12:53:33.922275Z"
    }
   },
   "outputs": [],
   "source": [
    "# Подсчет агрегатов по имени федерального округа\n",
    "\n",
    "fo = data.select(['user_id', 'federal_district']).\\\n",
    "                    group_by(['user_id', 'federal_district']).aggregate([('federal_district', \"count\")]).to_pandas()\n",
    "fo['federal_district_count_max'] = fo.groupby(['user_id'], as_index=False)[\"federal_district_count\"].transform('max')\n",
    "fo = fo.loc[fo.federal_district_count==fo.federal_district_count_max]\n",
    "\n",
    "df_users_features = df_users_features.merge(fo[['user_id', 'federal_district']], how='left')"
   ]
  },
  {
   "cell_type": "code",
   "execution_count": 19,
   "metadata": {
    "execution": {
     "iopub.execute_input": "2023-02-23T12:54:20.254179Z",
     "iopub.status.busy": "2023-02-23T12:54:20.253642Z",
     "iopub.status.idle": "2023-02-23T12:54:20.278050Z",
     "shell.execute_reply": "2023-02-23T12:54:20.276829Z",
     "shell.execute_reply.started": "2023-02-23T12:54:20.254142Z"
    }
   },
   "outputs": [
    {
     "data": {
      "text/html": [
       "<div>\n",
       "<style scoped>\n",
       "    .dataframe tbody tr th:only-of-type {\n",
       "        vertical-align: middle;\n",
       "    }\n",
       "\n",
       "    .dataframe tbody tr th {\n",
       "        vertical-align: top;\n",
       "    }\n",
       "\n",
       "    .dataframe thead th {\n",
       "        text-align: right;\n",
       "    }\n",
       "</style>\n",
       "<table border=\"1\" class=\"dataframe\">\n",
       "  <thead>\n",
       "    <tr style=\"text-align: right;\">\n",
       "      <th></th>\n",
       "      <th>population_mean</th>\n",
       "      <th>capital_marker_mean</th>\n",
       "      <th>region_population_mean</th>\n",
       "      <th>user_id</th>\n",
       "      <th>federal_district</th>\n",
       "    </tr>\n",
       "  </thead>\n",
       "  <tbody>\n",
       "    <tr>\n",
       "      <th>0</th>\n",
       "      <td>742648.178710</td>\n",
       "      <td>1.997419</td>\n",
       "      <td>2.611344e+06</td>\n",
       "      <td>45098</td>\n",
       "      <td>Южный</td>\n",
       "    </tr>\n",
       "    <tr>\n",
       "      <th>1</th>\n",
       "      <td>NaN</td>\n",
       "      <td>NaN</td>\n",
       "      <td>NaN</td>\n",
       "      <td>117132</td>\n",
       "      <td>None</td>\n",
       "    </tr>\n",
       "    <tr>\n",
       "      <th>2</th>\n",
       "      <td>431491.000000</td>\n",
       "      <td>2.000000</td>\n",
       "      <td>7.181590e+05</td>\n",
       "      <td>79395</td>\n",
       "      <td>Северо-Западный</td>\n",
       "    </tr>\n",
       "    <tr>\n",
       "      <th>3</th>\n",
       "      <td>241788.000000</td>\n",
       "      <td>0.000000</td>\n",
       "      <td>2.617631e+06</td>\n",
       "      <td>91294</td>\n",
       "      <td>Южный</td>\n",
       "    </tr>\n",
       "    <tr>\n",
       "      <th>4</th>\n",
       "      <td>586844.134185</td>\n",
       "      <td>2.000000</td>\n",
       "      <td>8.298867e+05</td>\n",
       "      <td>161323</td>\n",
       "      <td>Уральский</td>\n",
       "    </tr>\n",
       "  </tbody>\n",
       "</table>\n",
       "</div>"
      ],
      "text/plain": [
       "   population_mean  capital_marker_mean  region_population_mean  user_id  \\\n",
       "0    742648.178710             1.997419            2.611344e+06    45098   \n",
       "1              NaN                  NaN                     NaN   117132   \n",
       "2    431491.000000             2.000000            7.181590e+05    79395   \n",
       "3    241788.000000             0.000000            2.617631e+06    91294   \n",
       "4    586844.134185             2.000000            8.298867e+05   161323   \n",
       "\n",
       "  federal_district  \n",
       "0            Южный  \n",
       "1             None  \n",
       "2  Северо-Западный  \n",
       "3            Южный  \n",
       "4        Уральский  "
      ]
     },
     "execution_count": 19,
     "metadata": {},
     "output_type": "execute_result"
    }
   ],
   "source": [
    "# Сохраняем фрейм с фичами по популяционной стате по пользователям\n",
    "\n",
    "df_users_features.to_csv('users_population_features.csv', index=False)\n",
    "df_users_features.head()"
   ]
  },
  {
   "cell_type": "code",
   "execution_count": 20,
   "metadata": {},
   "outputs": [
    {
     "data": {
      "text/plain": [
       "0"
      ]
     },
     "execution_count": 20,
     "metadata": {},
     "output_type": "execute_result"
    }
   ],
   "source": [
    "gc.collect()"
   ]
  },
  {
   "cell_type": "markdown",
   "metadata": {},
   "source": [
    "### Признаки выходных дней"
   ]
  },
  {
   "cell_type": "code",
   "execution_count": 4,
   "metadata": {},
   "outputs": [],
   "source": [
    "data = pq.read_table(f'{LOCAL_DATA_PATH}/{DATA_FILE}')\n",
    "data = data.select(['user_id', 'request_cnt', 'date']).to_pandas()"
   ]
  },
  {
   "cell_type": "code",
   "execution_count": 5,
   "metadata": {},
   "outputs": [],
   "source": [
    "data['date'] = pd.to_datetime(data['date'])"
   ]
  },
  {
   "cell_type": "code",
   "execution_count": 6,
   "metadata": {
    "execution": {
     "iopub.execute_input": "2023-02-23T12:56:15.983157Z",
     "iopub.status.busy": "2023-02-23T12:56:15.982705Z",
     "iopub.status.idle": "2023-02-23T12:56:17.200181Z",
     "shell.execute_reply": "2023-02-23T12:56:17.198780Z",
     "shell.execute_reply.started": "2023-02-23T12:56:15.983119Z"
    }
   },
   "outputs": [
    {
     "data": {
      "text/html": [
       "<div>\n",
       "<style scoped>\n",
       "    .dataframe tbody tr th:only-of-type {\n",
       "        vertical-align: middle;\n",
       "    }\n",
       "\n",
       "    .dataframe tbody tr th {\n",
       "        vertical-align: top;\n",
       "    }\n",
       "\n",
       "    .dataframe thead th {\n",
       "        text-align: right;\n",
       "    }\n",
       "</style>\n",
       "<table border=\"1\" class=\"dataframe\">\n",
       "  <thead>\n",
       "    <tr style=\"text-align: right;\">\n",
       "      <th></th>\n",
       "      <th>user_id</th>\n",
       "      <th>request_cnt</th>\n",
       "      <th>date</th>\n",
       "    </tr>\n",
       "  </thead>\n",
       "  <tbody>\n",
       "    <tr>\n",
       "      <th>0</th>\n",
       "      <td>45098</td>\n",
       "      <td>1</td>\n",
       "      <td>0</td>\n",
       "    </tr>\n",
       "    <tr>\n",
       "      <th>1</th>\n",
       "      <td>45098</td>\n",
       "      <td>1</td>\n",
       "      <td>1</td>\n",
       "    </tr>\n",
       "    <tr>\n",
       "      <th>2</th>\n",
       "      <td>45098</td>\n",
       "      <td>1</td>\n",
       "      <td>1</td>\n",
       "    </tr>\n",
       "    <tr>\n",
       "      <th>3</th>\n",
       "      <td>45098</td>\n",
       "      <td>1</td>\n",
       "      <td>0</td>\n",
       "    </tr>\n",
       "    <tr>\n",
       "      <th>4</th>\n",
       "      <td>45098</td>\n",
       "      <td>1</td>\n",
       "      <td>0</td>\n",
       "    </tr>\n",
       "  </tbody>\n",
       "</table>\n",
       "</div>"
      ],
      "text/plain": [
       "   user_id  request_cnt  date\n",
       "0    45098            1     0\n",
       "1    45098            1     1\n",
       "2    45098            1     1\n",
       "3    45098            1     0\n",
       "4    45098            1     0"
      ]
     },
     "execution_count": 6,
     "metadata": {},
     "output_type": "execute_result"
    }
   ],
   "source": [
    "# Не проверял этот календарь, но надеюсь, в нем все корректно)\n",
    "# Тут даты во фрейме бинарно маркируются: выходной, не выходной\n",
    "\n",
    "url21 = 'https://raw.githubusercontent.com/d10xa/holidays-calendar/master/json/consultant' + '2021' + '.json'\n",
    "r21 = requests.get(url21)\n",
    "cal21 = json.loads(r21.text)\n",
    "\n",
    "url22 = 'https://raw.githubusercontent.com/d10xa/holidays-calendar/master/json/consultant' + '2022' + '.json'\n",
    "r22 = requests.get(url22)\n",
    "cal22 = json.loads(r22.text)\n",
    "\n",
    "def is_holiday(date):\n",
    "    if date.year == 2021:\n",
    "        return cal21['holidays'].count(str(date)[0:-9])\n",
    "    else:\n",
    "        return cal22['holidays'].count(str(date)[0:-9])\n",
    "\n",
    "data['date'] = data['date'].apply(lambda date: is_holiday(date))\n",
    "data.head()"
   ]
  },
  {
   "cell_type": "code",
   "execution_count": 7,
   "metadata": {},
   "outputs": [
    {
     "data": {
      "text/plain": [
       "0    236903363\n",
       "1     85996072\n",
       "Name: date, dtype: int64"
      ]
     },
     "execution_count": 7,
     "metadata": {},
     "output_type": "execute_result"
    }
   ],
   "source": [
    "data['date'].value_counts()"
   ]
  },
  {
   "cell_type": "code",
   "execution_count": 8,
   "metadata": {
    "execution": {
     "iopub.execute_input": "2023-02-23T12:57:48.271753Z",
     "iopub.status.busy": "2023-02-23T12:57:48.271185Z",
     "iopub.status.idle": "2023-02-23T12:57:48.300355Z",
     "shell.execute_reply": "2023-02-23T12:57:48.298770Z",
     "shell.execute_reply.started": "2023-02-23T12:57:48.271709Z"
    }
   },
   "outputs": [],
   "source": [
    "# Подсчет долей выходных долей по пользовтаелям\n",
    "\n",
    "data['date'] = data['date'].astype('category')\n",
    "\n",
    "df = data.groupby(['user_id','date'],group_keys=False)['request_cnt'].sum().reset_index()\n",
    "df['request_cnt_sum'] = pd.Series(np.repeat(df.groupby('user_id')['request_cnt'].sum().reset_index(drop=True).values,2,axis=0))\n",
    "df['holyday_fraction'] = df['request_cnt']/df['request_cnt_sum']\n",
    "df['holyday_fraction'] = df['holyday_fraction'].astype('float32')\n",
    "\n",
    "df = df.loc[df['date']==1].drop(['request_cnt_sum','request_cnt','date'],axis=1).reset_index(drop=True)"
   ]
  },
  {
   "cell_type": "code",
   "execution_count": null,
   "metadata": {},
   "outputs": [],
   "source": []
  },
  {
   "cell_type": "code",
   "execution_count": 9,
   "metadata": {
    "execution": {
     "iopub.execute_input": "2023-02-23T12:58:12.450564Z",
     "iopub.status.busy": "2023-02-23T12:58:12.450057Z",
     "iopub.status.idle": "2023-02-23T12:58:12.469042Z",
     "shell.execute_reply": "2023-02-23T12:58:12.467628Z",
     "shell.execute_reply.started": "2023-02-23T12:58:12.450523Z"
    }
   },
   "outputs": [
    {
     "data": {
      "text/html": [
       "<div>\n",
       "<style scoped>\n",
       "    .dataframe tbody tr th:only-of-type {\n",
       "        vertical-align: middle;\n",
       "    }\n",
       "\n",
       "    .dataframe tbody tr th {\n",
       "        vertical-align: top;\n",
       "    }\n",
       "\n",
       "    .dataframe thead th {\n",
       "        text-align: right;\n",
       "    }\n",
       "</style>\n",
       "<table border=\"1\" class=\"dataframe\">\n",
       "  <thead>\n",
       "    <tr style=\"text-align: right;\">\n",
       "      <th></th>\n",
       "      <th>user_id</th>\n",
       "      <th>holyday_fraction</th>\n",
       "    </tr>\n",
       "  </thead>\n",
       "  <tbody>\n",
       "    <tr>\n",
       "      <th>0</th>\n",
       "      <td>0</td>\n",
       "      <td>0.243523</td>\n",
       "    </tr>\n",
       "    <tr>\n",
       "      <th>1</th>\n",
       "      <td>1</td>\n",
       "      <td>0.200573</td>\n",
       "    </tr>\n",
       "    <tr>\n",
       "      <th>2</th>\n",
       "      <td>2</td>\n",
       "      <td>0.299270</td>\n",
       "    </tr>\n",
       "    <tr>\n",
       "      <th>3</th>\n",
       "      <td>3</td>\n",
       "      <td>0.181818</td>\n",
       "    </tr>\n",
       "    <tr>\n",
       "      <th>4</th>\n",
       "      <td>4</td>\n",
       "      <td>0.326898</td>\n",
       "    </tr>\n",
       "  </tbody>\n",
       "</table>\n",
       "</div>"
      ],
      "text/plain": [
       "   user_id  holyday_fraction\n",
       "0        0          0.243523\n",
       "1        1          0.200573\n",
       "2        2          0.299270\n",
       "3        3          0.181818\n",
       "4        4          0.326898"
      ]
     },
     "execution_count": 9,
     "metadata": {},
     "output_type": "execute_result"
    }
   ],
   "source": [
    "# Сохранение\n",
    "\n",
    "df.to_csv('users_holyday_fraction.csv', index=False)\n",
    "df.head()"
   ]
  },
  {
   "cell_type": "code",
   "execution_count": 10,
   "metadata": {},
   "outputs": [
    {
     "data": {
      "text/plain": [
       "0"
      ]
     },
     "execution_count": 10,
     "metadata": {},
     "output_type": "execute_result"
    }
   ],
   "source": [
    "gc.collect()"
   ]
  },
  {
   "cell_type": "markdown",
   "metadata": {},
   "source": [
    "### Тут считаются фичи доли мужских сайтов"
   ]
  },
  {
   "cell_type": "code",
   "execution_count": null,
   "metadata": {
    "execution": {
     "iopub.execute_input": "2023-02-23T13:26:12.545997Z",
     "iopub.status.busy": "2023-02-23T13:26:12.545486Z",
     "iopub.status.idle": "2023-02-23T13:26:20.381737Z",
     "shell.execute_reply": "2023-02-23T13:26:20.380208Z",
     "shell.execute_reply.started": "2023-02-23T13:26:12.545961Z"
    }
   },
   "outputs": [],
   "source": [
    "data = pq.read_table(f'{LOCAL_DATA_PATH}/{DATA_FILE}')\n",
    "data = data.select(['user_id', 'request_cnt', 'url_host']).to_pandas()"
   ]
  },
  {
   "cell_type": "code",
   "execution_count": null,
   "metadata": {
    "execution": {
     "iopub.execute_input": "2023-02-23T13:26:20.384689Z",
     "iopub.status.busy": "2023-02-23T13:26:20.384136Z",
     "iopub.status.idle": "2023-02-23T13:26:20.787955Z",
     "shell.execute_reply": "2023-02-23T13:26:20.786855Z",
     "shell.execute_reply.started": "2023-02-23T13:26:20.384641Z"
    }
   },
   "outputs": [],
   "source": [
    "# Из датафрейма удалются сайты, у которых было менее 50 уникальных пользователей\n",
    "\n",
    "sites = (data.groupby('url_host', as_index=False)\n",
    "           .agg(request_cnt=('request_cnt', 'sum'), unique_user_id=('user_id', 'nunique'))\n",
    "           .sort_values(by='request_cnt', ascending=False))\n",
    "\n",
    "drop_sites_50 = list(sites.loc[sites.unique_user_id<=50].url_host.unique())\n",
    "\n",
    "data = data.loc[~data['url_host'].isin(drop_sites_50)]"
   ]
  },
  {
   "cell_type": "code",
   "execution_count": 6,
   "metadata": {
    "execution": {
     "iopub.execute_input": "2023-02-23T13:26:20.789977Z",
     "iopub.status.busy": "2023-02-23T13:26:20.789626Z",
     "iopub.status.idle": "2023-02-23T13:26:21.041075Z",
     "shell.execute_reply": "2023-02-23T13:26:21.039675Z",
     "shell.execute_reply.started": "2023-02-23T13:26:20.789946Z"
    }
   },
   "outputs": [],
   "source": [
    "# Подгружаются таргеты по полу\n",
    "# Для каждого сайта считается число запросов, число запросов мужчин\n",
    "# и доля от этих двух агрегатов\n",
    "\n",
    "#target = pd.read_feather('/kaggle/input/mts-ml-cookies/target_train.feather', columns=['user_id','is_male'])\n",
    "target = pq.read_table(f'{LOCAL_DATA_PATH}/{TARGET_FILE}').to_pandas()[['user_id', 'is_male']]\n",
    "\n",
    "target['user_id'] = target['user_id'].astype('int32')\n",
    "target['is_male'] = target['is_male'].astype('object')\n",
    "\n",
    "data = data.merge(target[['is_male','user_id']], on = 'user_id', how = 'inner')\n",
    "data = data.loc[~(data['is_male'].isna()) & (data['is_male'] != 'NA')]\n",
    "data['is_male'] = data['is_male'].astype('int8')\n",
    "\n",
    "data['male_request_cnt'] = data['is_male'] * data['request_cnt']\n",
    "df = data.groupby('url_host', as_index=False).agg({'request_cnt':'sum','male_request_cnt':'sum'})\n",
    "df['male_fraction'] = df['male_request_cnt'] / df['request_cnt']"
   ]
  },
  {
   "cell_type": "code",
   "execution_count": 7,
   "metadata": {
    "execution": {
     "iopub.execute_input": "2023-02-23T13:26:21.044166Z",
     "iopub.status.busy": "2023-02-23T13:26:21.043741Z",
     "iopub.status.idle": "2023-02-23T13:26:21.759824Z",
     "shell.execute_reply": "2023-02-23T13:26:21.758522Z",
     "shell.execute_reply.started": "2023-02-23T13:26:21.044128Z"
    }
   },
   "outputs": [
    {
     "data": {
      "text/html": [
       "<div>\n",
       "<style scoped>\n",
       "    .dataframe tbody tr th:only-of-type {\n",
       "        vertical-align: middle;\n",
       "    }\n",
       "\n",
       "    .dataframe tbody tr th {\n",
       "        vertical-align: top;\n",
       "    }\n",
       "\n",
       "    .dataframe thead th {\n",
       "        text-align: right;\n",
       "    }\n",
       "</style>\n",
       "<table border=\"1\" class=\"dataframe\">\n",
       "  <thead>\n",
       "    <tr style=\"text-align: right;\">\n",
       "      <th></th>\n",
       "      <th>url_host</th>\n",
       "      <th>request_cnt</th>\n",
       "      <th>male_request_cnt</th>\n",
       "      <th>male_fraction</th>\n",
       "    </tr>\n",
       "  </thead>\n",
       "  <tbody>\n",
       "    <tr>\n",
       "      <th>0</th>\n",
       "      <td>-1</td>\n",
       "      <td>27886</td>\n",
       "      <td>24157</td>\n",
       "      <td>0.866277</td>\n",
       "    </tr>\n",
       "    <tr>\n",
       "      <th>1</th>\n",
       "      <td>0-hi--tech-mail-ru-0.cdn.ampproject.org</td>\n",
       "      <td>4296</td>\n",
       "      <td>2801</td>\n",
       "      <td>0.652002</td>\n",
       "    </tr>\n",
       "    <tr>\n",
       "      <th>2</th>\n",
       "      <td>003ms.ru</td>\n",
       "      <td>438</td>\n",
       "      <td>181</td>\n",
       "      <td>0.413242</td>\n",
       "    </tr>\n",
       "    <tr>\n",
       "      <th>3</th>\n",
       "      <td>010203.org</td>\n",
       "      <td>69</td>\n",
       "      <td>36</td>\n",
       "      <td>0.521739</td>\n",
       "    </tr>\n",
       "    <tr>\n",
       "      <th>4</th>\n",
       "      <td>0370.ru</td>\n",
       "      <td>124</td>\n",
       "      <td>31</td>\n",
       "      <td>0.250000</td>\n",
       "    </tr>\n",
       "  </tbody>\n",
       "</table>\n",
       "</div>"
      ],
      "text/plain": [
       "                                  url_host  request_cnt  male_request_cnt  \\\n",
       "0                                       -1        27886             24157   \n",
       "1  0-hi--tech-mail-ru-0.cdn.ampproject.org         4296              2801   \n",
       "2                                 003ms.ru          438               181   \n",
       "3                               010203.org           69                36   \n",
       "4                                  0370.ru          124                31   \n",
       "\n",
       "   male_fraction  \n",
       "0       0.866277  \n",
       "1       0.652002  \n",
       "2       0.413242  \n",
       "3       0.521739  \n",
       "4       0.250000  "
      ]
     },
     "execution_count": 7,
     "metadata": {},
     "output_type": "execute_result"
    }
   ],
   "source": [
    "df.to_csv('sites_male_fraction.csv', index=False)\n",
    "df.head()"
   ]
  },
  {
   "cell_type": "code",
   "execution_count": 5,
   "metadata": {},
   "outputs": [],
   "source": [
    "df = pd.read_csv('./context_data/custom_data/sites_male_fraction.csv')"
   ]
  },
  {
   "cell_type": "code",
   "execution_count": 6,
   "metadata": {
    "execution": {
     "iopub.execute_input": "2023-02-23T13:29:47.753088Z",
     "iopub.status.busy": "2023-02-23T13:29:47.752485Z",
     "iopub.status.idle": "2023-02-23T13:29:54.393911Z",
     "shell.execute_reply": "2023-02-23T13:29:54.392441Z",
     "shell.execute_reply.started": "2023-02-23T13:29:47.753039Z"
    }
   },
   "outputs": [],
   "source": [
    "# Заново загружается основной фрейм, так как выше он редактировался\n",
    "\n",
    "data = pq.read_table(f'{LOCAL_DATA_PATH}/{DATA_FILE}')\n",
    "#data = data.select(['user_id', 'request_cnt', 'url_host']).to_pandas()"
   ]
  },
  {
   "cell_type": "code",
   "execution_count": 7,
   "metadata": {},
   "outputs": [],
   "source": [
    "# К сгруппированному основному фрейму мержится датафрейм с male_fraction из ячеек выше\n",
    "# Далее группировка по пользователям\n",
    "\n",
    "#data = pa.Table.from_pandas(data)\n",
    "data = data.group_by(['user_id', 'url_host']).aggregate([('request_cnt', \"sum\")]).to_pandas()"
   ]
  },
  {
   "cell_type": "code",
   "execution_count": 8,
   "metadata": {},
   "outputs": [],
   "source": [
    "\n",
    "data = data.merge(df[['url_host', 'male_fraction']], how='left')"
   ]
  },
  {
   "cell_type": "code",
   "execution_count": 9,
   "metadata": {
    "execution": {
     "iopub.execute_input": "2023-02-23T13:30:33.680959Z",
     "iopub.status.busy": "2023-02-23T13:30:33.680460Z",
     "iopub.status.idle": "2023-02-23T13:30:34.065662Z",
     "shell.execute_reply": "2023-02-23T13:30:34.063863Z",
     "shell.execute_reply.started": "2023-02-23T13:30:33.680920Z"
    }
   },
   "outputs": [],
   "source": [
    "\n",
    "data['male_fraction_cum'] = data['male_fraction'] * data['request_cnt_sum']\n",
    "\n",
    "users_male_fraction = data.groupby(['user_id'], as_index=False)[['male_fraction', 'male_fraction_cum']].mean()"
   ]
  },
  {
   "cell_type": "code",
   "execution_count": 10,
   "metadata": {
    "execution": {
     "iopub.execute_input": "2023-02-23T13:31:23.994851Z",
     "iopub.status.busy": "2023-02-23T13:31:23.993165Z",
     "iopub.status.idle": "2023-02-23T13:31:24.011673Z",
     "shell.execute_reply": "2023-02-23T13:31:24.010617Z",
     "shell.execute_reply.started": "2023-02-23T13:31:23.994776Z"
    }
   },
   "outputs": [
    {
     "data": {
      "text/html": [
       "<div>\n",
       "<style scoped>\n",
       "    .dataframe tbody tr th:only-of-type {\n",
       "        vertical-align: middle;\n",
       "    }\n",
       "\n",
       "    .dataframe tbody tr th {\n",
       "        vertical-align: top;\n",
       "    }\n",
       "\n",
       "    .dataframe thead th {\n",
       "        text-align: right;\n",
       "    }\n",
       "</style>\n",
       "<table border=\"1\" class=\"dataframe\">\n",
       "  <thead>\n",
       "    <tr style=\"text-align: right;\">\n",
       "      <th></th>\n",
       "      <th>user_id</th>\n",
       "      <th>male_fraction</th>\n",
       "      <th>male_fraction_cum</th>\n",
       "    </tr>\n",
       "  </thead>\n",
       "  <tbody>\n",
       "    <tr>\n",
       "      <th>0</th>\n",
       "      <td>0</td>\n",
       "      <td>0.474666</td>\n",
       "      <td>1.857592</td>\n",
       "    </tr>\n",
       "    <tr>\n",
       "      <th>1</th>\n",
       "      <td>1</td>\n",
       "      <td>0.511873</td>\n",
       "      <td>4.114327</td>\n",
       "    </tr>\n",
       "    <tr>\n",
       "      <th>2</th>\n",
       "      <td>2</td>\n",
       "      <td>0.529900</td>\n",
       "      <td>4.238684</td>\n",
       "    </tr>\n",
       "    <tr>\n",
       "      <th>3</th>\n",
       "      <td>3</td>\n",
       "      <td>0.512286</td>\n",
       "      <td>3.386407</td>\n",
       "    </tr>\n",
       "    <tr>\n",
       "      <th>4</th>\n",
       "      <td>4</td>\n",
       "      <td>0.482122</td>\n",
       "      <td>3.703606</td>\n",
       "    </tr>\n",
       "  </tbody>\n",
       "</table>\n",
       "</div>"
      ],
      "text/plain": [
       "   user_id  male_fraction  male_fraction_cum\n",
       "0        0       0.474666           1.857592\n",
       "1        1       0.511873           4.114327\n",
       "2        2       0.529900           4.238684\n",
       "3        3       0.512286           3.386407\n",
       "4        4       0.482122           3.703606"
      ]
     },
     "execution_count": 10,
     "metadata": {},
     "output_type": "execute_result"
    }
   ],
   "source": [
    "users_male_fraction.to_csv('users_male_fraction.csv', index=False)\n",
    "users_male_fraction.head()"
   ]
  },
  {
   "cell_type": "code",
   "execution_count": 11,
   "metadata": {},
   "outputs": [
    {
     "data": {
      "text/plain": [
       "37"
      ]
     },
     "execution_count": 11,
     "metadata": {},
     "output_type": "execute_result"
    }
   ],
   "source": [
    "gc.collect()"
   ]
  },
  {
   "cell_type": "markdown",
   "metadata": {},
   "source": [
    "### Тут считаются агрегаты по возрасту"
   ]
  },
  {
   "cell_type": "code",
   "execution_count": 4,
   "metadata": {
    "execution": {
     "iopub.execute_input": "2023-02-23T13:37:39.995122Z",
     "iopub.status.busy": "2023-02-23T13:37:39.994595Z",
     "iopub.status.idle": "2023-02-23T13:37:46.626932Z",
     "shell.execute_reply": "2023-02-23T13:37:46.625434Z",
     "shell.execute_reply.started": "2023-02-23T13:37:39.995076Z"
    }
   },
   "outputs": [],
   "source": [
    "# Загрузка основного фрейма, удаление сайтов с менее 50 уников\n",
    "# Примердживание таргета по возрасту\n",
    "\n",
    "\n",
    "data = pq.read_table(f'{LOCAL_DATA_PATH}/{DATA_FILE}')\\\n",
    "    .select(['user_id', 'request_cnt', 'url_host']).to_pandas()\n",
    "\n",
    "sites = (data.groupby('url_host', as_index=False)\n",
    "           .agg(request_cnt=('request_cnt', 'sum'), unique_user_id=('user_id', 'nunique'))\n",
    "           .sort_values(by='request_cnt', ascending=False))\n",
    "\n",
    "drop_sites_50 = list(sites.loc[sites.unique_user_id<=50].url_host.unique())\n",
    "\n",
    "data = data.loc[~data['url_host'].isin(drop_sites_50)]\n",
    "\n",
    "target = pq.read_table(f'{LOCAL_DATA_PATH}/{TARGET_FILE}').to_pandas()[['user_id', 'age']]\n",
    "target['user_id'] = target['user_id'].astype('int32')\n",
    "\n",
    "# добавляем target, удаляем nan\n",
    "data = data.merge(target[['age','user_id']], on = 'user_id', how = 'inner')\n",
    "data = data.loc[~(data['age'].isna()) & (data['age'] > 18) & (data['age'] != 'NA')]\n",
    "data['age'] = data['age'].astype('int16')"
   ]
  },
  {
   "cell_type": "code",
   "execution_count": 5,
   "metadata": {
    "execution": {
     "iopub.execute_input": "2023-02-23T13:56:46.170218Z",
     "iopub.status.busy": "2023-02-23T13:56:46.169611Z",
     "iopub.status.idle": "2023-02-23T13:56:46.487567Z",
     "shell.execute_reply": "2023-02-23T13:56:46.486105Z",
     "shell.execute_reply.started": "2023-02-23T13:56:46.170172Z"
    }
   },
   "outputs": [],
   "source": [
    "# Группировка по url и подсчет агрегатов по возрасту\n",
    "\n",
    "def q10(x): return x.quantile(0.1)\n",
    "def q25(x): return x.quantile(0.25)\n",
    "def q75(x): return x.quantile(0.75)\n",
    "def q90(x): return x.quantile(0.9)\n",
    "\n",
    "data = data[['user_id', 'url_host', 'age']].drop_duplicates(subset=['user_id', 'url_host'], keep='first')\n",
    "df = data.groupby('url_host', as_index=False).agg(median_age=('age', 'median'),\n",
    "                                                  q10_age=('age', q10),\n",
    "                                                  q25_age=('age', q25),\n",
    "                                                  q75_age=('age', q75),\n",
    "                                                  q90_age=('age', q90),\n",
    "                                                  avg_age=('age', 'mean'))"
   ]
  },
  {
   "cell_type": "code",
   "execution_count": 6,
   "metadata": {},
   "outputs": [],
   "source": [
    "data = data[['user_id', 'url_host', 'age']].drop_duplicates(subset=['user_id', 'url_host'], keep='first')\n",
    "df_new_feat = data.groupby('url_host', as_index=False).agg(\n",
    "    min_age = ('age', 'min'),\n",
    "    max_age = ('age', 'max'),\n",
    "    q5_age = ('age', lambda x: x.quantile(.05)),\n",
    "    q15_age = ('age', lambda x: x.quantile(.15)),\n",
    "    q20_age = ('age', lambda x: x.quantile(.20)),\n",
    "    q30_age = ('age', lambda x: x.quantile(.30)),\n",
    "    q35_age = ('age', lambda x: x.quantile(.35)),\n",
    "    q40_age = ('age', lambda x: x.quantile(.40)),\n",
    "    q45_age = ('age', lambda x: x.quantile(.45)),\n",
    "    q55_age = ('age', lambda x: x.quantile(.55)),\n",
    "    q60_age = ('age', lambda x: x.quantile(.60)),\n",
    "    q65_age = ('age', lambda x: x.quantile(.65)),\n",
    "    q70_age = ('age', lambda x: x.quantile(.70)),\n",
    "    q80_age = ('age', lambda x: x.quantile(.80)),\n",
    "    q85_age = ('age', lambda x: x.quantile(.85)),\n",
    "    q95_age = ('age', lambda x: x.quantile(.95)),\n",
    "    std_age = ('age', 'std'),\n",
    "    mode_age = ('age', pd.Series.mode)\n",
    ")"
   ]
  },
  {
   "cell_type": "code",
   "execution_count": null,
   "metadata": {},
   "outputs": [],
   "source": [
    "df.to_csv('sites_age_distribution.csv', index=False)\n",
    "df.head()"
   ]
  },
  {
   "cell_type": "code",
   "execution_count": 8,
   "metadata": {},
   "outputs": [],
   "source": [
    "df_new_feat.to_csv('sites_age_distribution_2.csv', index=False)\n"
   ]
  },
  {
   "cell_type": "code",
   "execution_count": 13,
   "metadata": {},
   "outputs": [],
   "source": [
    "# Снова подгрузка основного фрейма и джоин фрейма выше с агрегатами возрастов\n",
    "# Группировка по пользователям\n",
    "\n",
    "\n",
    "data = pq.read_table(f'{LOCAL_DATA_PATH}/{DATA_FILE}')\\\n",
    "    .select(['user_id', 'request_cnt', 'url_host'])\n",
    "\n",
    "data = data.group_by(['user_id', 'url_host']).aggregate([('request_cnt', \"sum\")]).to_pandas()\n",
    "data = data.merge(df_new_feat,\n",
    "                  how='left')\n",
    "\n",
    "users_age_distribution = data.groupby(['user_id'], as_index=False).mean()"
   ]
  },
  {
   "cell_type": "code",
   "execution_count": 16,
   "metadata": {},
   "outputs": [],
   "source": [
    "users_age_distribution = users_age_distribution.drop('request_cnt_sum', axis=1)"
   ]
  },
  {
   "cell_type": "code",
   "execution_count": 17,
   "metadata": {},
   "outputs": [
    {
     "data": {
      "text/html": [
       "<div>\n",
       "<style scoped>\n",
       "    .dataframe tbody tr th:only-of-type {\n",
       "        vertical-align: middle;\n",
       "    }\n",
       "\n",
       "    .dataframe tbody tr th {\n",
       "        vertical-align: top;\n",
       "    }\n",
       "\n",
       "    .dataframe thead th {\n",
       "        text-align: right;\n",
       "    }\n",
       "</style>\n",
       "<table border=\"1\" class=\"dataframe\">\n",
       "  <thead>\n",
       "    <tr style=\"text-align: right;\">\n",
       "      <th></th>\n",
       "      <th>user_id</th>\n",
       "      <th>min_age</th>\n",
       "      <th>max_age</th>\n",
       "      <th>q5_age</th>\n",
       "      <th>q15_age</th>\n",
       "      <th>q20_age</th>\n",
       "      <th>q30_age</th>\n",
       "      <th>q35_age</th>\n",
       "      <th>q40_age</th>\n",
       "      <th>q45_age</th>\n",
       "      <th>q55_age</th>\n",
       "      <th>q60_age</th>\n",
       "      <th>q65_age</th>\n",
       "      <th>q70_age</th>\n",
       "      <th>q80_age</th>\n",
       "      <th>q85_age</th>\n",
       "      <th>q95_age</th>\n",
       "      <th>std_age</th>\n",
       "    </tr>\n",
       "  </thead>\n",
       "  <tbody>\n",
       "    <tr>\n",
       "      <th>0</th>\n",
       "      <td>0</td>\n",
       "      <td>19.000000</td>\n",
       "      <td>84.576923</td>\n",
       "      <td>22.750000</td>\n",
       "      <td>25.975962</td>\n",
       "      <td>27.634615</td>\n",
       "      <td>30.601923</td>\n",
       "      <td>31.923077</td>\n",
       "      <td>33.230769</td>\n",
       "      <td>34.601923</td>\n",
       "      <td>37.557692</td>\n",
       "      <td>39.019231</td>\n",
       "      <td>40.711538</td>\n",
       "      <td>42.457692</td>\n",
       "      <td>47.696154</td>\n",
       "      <td>50.605769</td>\n",
       "      <td>59.095192</td>\n",
       "      <td>11.207079</td>\n",
       "    </tr>\n",
       "    <tr>\n",
       "      <th>1</th>\n",
       "      <td>1</td>\n",
       "      <td>19.203008</td>\n",
       "      <td>84.210526</td>\n",
       "      <td>23.917293</td>\n",
       "      <td>27.700752</td>\n",
       "      <td>29.410526</td>\n",
       "      <td>32.434586</td>\n",
       "      <td>33.847368</td>\n",
       "      <td>35.309774</td>\n",
       "      <td>36.717669</td>\n",
       "      <td>39.662030</td>\n",
       "      <td>41.267669</td>\n",
       "      <td>43.130827</td>\n",
       "      <td>45.008271</td>\n",
       "      <td>49.912782</td>\n",
       "      <td>52.614662</td>\n",
       "      <td>60.446241</td>\n",
       "      <td>11.318622</td>\n",
       "    </tr>\n",
       "    <tr>\n",
       "      <th>2</th>\n",
       "      <td>2</td>\n",
       "      <td>19.019608</td>\n",
       "      <td>88.254902</td>\n",
       "      <td>22.607843</td>\n",
       "      <td>25.713725</td>\n",
       "      <td>27.337255</td>\n",
       "      <td>29.980392</td>\n",
       "      <td>31.345098</td>\n",
       "      <td>32.694118</td>\n",
       "      <td>33.905882</td>\n",
       "      <td>36.662745</td>\n",
       "      <td>38.129412</td>\n",
       "      <td>39.803922</td>\n",
       "      <td>41.588235</td>\n",
       "      <td>46.352941</td>\n",
       "      <td>49.215686</td>\n",
       "      <td>58.043137</td>\n",
       "      <td>10.942105</td>\n",
       "    </tr>\n",
       "    <tr>\n",
       "      <th>3</th>\n",
       "      <td>3</td>\n",
       "      <td>19.142857</td>\n",
       "      <td>88.619048</td>\n",
       "      <td>22.738095</td>\n",
       "      <td>25.911905</td>\n",
       "      <td>27.509524</td>\n",
       "      <td>30.261905</td>\n",
       "      <td>31.619048</td>\n",
       "      <td>32.980952</td>\n",
       "      <td>34.188095</td>\n",
       "      <td>36.952381</td>\n",
       "      <td>38.361905</td>\n",
       "      <td>40.047619</td>\n",
       "      <td>41.738095</td>\n",
       "      <td>46.476190</td>\n",
       "      <td>49.421429</td>\n",
       "      <td>58.426190</td>\n",
       "      <td>10.955447</td>\n",
       "    </tr>\n",
       "    <tr>\n",
       "      <th>4</th>\n",
       "      <td>4</td>\n",
       "      <td>19.018692</td>\n",
       "      <td>85.336449</td>\n",
       "      <td>22.645794</td>\n",
       "      <td>25.728037</td>\n",
       "      <td>27.308411</td>\n",
       "      <td>29.935514</td>\n",
       "      <td>31.192056</td>\n",
       "      <td>32.504673</td>\n",
       "      <td>33.699533</td>\n",
       "      <td>36.414953</td>\n",
       "      <td>37.805607</td>\n",
       "      <td>39.361215</td>\n",
       "      <td>41.093458</td>\n",
       "      <td>45.626168</td>\n",
       "      <td>48.516355</td>\n",
       "      <td>57.512150</td>\n",
       "      <td>10.718785</td>\n",
       "    </tr>\n",
       "  </tbody>\n",
       "</table>\n",
       "</div>"
      ],
      "text/plain": [
       "   user_id    min_age    max_age     q5_age    q15_age    q20_age    q30_age  \\\n",
       "0        0  19.000000  84.576923  22.750000  25.975962  27.634615  30.601923   \n",
       "1        1  19.203008  84.210526  23.917293  27.700752  29.410526  32.434586   \n",
       "2        2  19.019608  88.254902  22.607843  25.713725  27.337255  29.980392   \n",
       "3        3  19.142857  88.619048  22.738095  25.911905  27.509524  30.261905   \n",
       "4        4  19.018692  85.336449  22.645794  25.728037  27.308411  29.935514   \n",
       "\n",
       "     q35_age    q40_age    q45_age    q55_age    q60_age    q65_age  \\\n",
       "0  31.923077  33.230769  34.601923  37.557692  39.019231  40.711538   \n",
       "1  33.847368  35.309774  36.717669  39.662030  41.267669  43.130827   \n",
       "2  31.345098  32.694118  33.905882  36.662745  38.129412  39.803922   \n",
       "3  31.619048  32.980952  34.188095  36.952381  38.361905  40.047619   \n",
       "4  31.192056  32.504673  33.699533  36.414953  37.805607  39.361215   \n",
       "\n",
       "     q70_age    q80_age    q85_age    q95_age    std_age  \n",
       "0  42.457692  47.696154  50.605769  59.095192  11.207079  \n",
       "1  45.008271  49.912782  52.614662  60.446241  11.318622  \n",
       "2  41.588235  46.352941  49.215686  58.043137  10.942105  \n",
       "3  41.738095  46.476190  49.421429  58.426190  10.955447  \n",
       "4  41.093458  45.626168  48.516355  57.512150  10.718785  "
      ]
     },
     "execution_count": 17,
     "metadata": {},
     "output_type": "execute_result"
    }
   ],
   "source": [
    "users_age_distribution.to_csv('users_age_distribution_2.csv', index=False)\n",
    "users_age_distribution.head()"
   ]
  },
  {
   "cell_type": "code",
   "execution_count": 8,
   "metadata": {
    "execution": {
     "iopub.execute_input": "2023-02-23T14:02:40.167894Z",
     "iopub.status.busy": "2023-02-23T14:02:40.166754Z",
     "iopub.status.idle": "2023-02-23T14:02:46.666833Z",
     "shell.execute_reply": "2023-02-23T14:02:46.665568Z",
     "shell.execute_reply.started": "2023-02-23T14:02:40.167847Z"
    }
   },
   "outputs": [],
   "source": [
    "# Снова подгрузка основного фрейма и джоин фрейма выше с агрегатами возрастов\n",
    "# Группировка по пользователям\n",
    "\n",
    "\n",
    "data = pq.read_table(f'{LOCAL_DATA_PATH}/{DATA_FILE}')\\\n",
    "    .select(['user_id', 'request_cnt', 'url_host'])\n",
    "\n",
    "data = data.group_by(['user_id', 'url_host']).aggregate([('request_cnt', \"sum\")]).to_pandas()\n",
    "data = data.merge(df[['url_host', 'median_age', 'q10_age', 'q25_age', 'q75_age', 'q90_age', 'avg_age']],\n",
    "                  how='left')\n",
    "\n",
    "users_age_distribution = data.groupby(['user_id'], as_index=False)[['median_age', 'q10_age', 'q25_age',\n",
    "                                                                    'q75_age', 'q90_age', 'avg_age']].mean()"
   ]
  },
  {
   "cell_type": "code",
   "execution_count": 9,
   "metadata": {
    "execution": {
     "iopub.execute_input": "2023-02-23T14:02:46.669513Z",
     "iopub.status.busy": "2023-02-23T14:02:46.669024Z",
     "iopub.status.idle": "2023-02-23T14:02:46.696225Z",
     "shell.execute_reply": "2023-02-23T14:02:46.695357Z",
     "shell.execute_reply.started": "2023-02-23T14:02:46.669456Z"
    }
   },
   "outputs": [
    {
     "data": {
      "text/html": [
       "<div>\n",
       "<style scoped>\n",
       "    .dataframe tbody tr th:only-of-type {\n",
       "        vertical-align: middle;\n",
       "    }\n",
       "\n",
       "    .dataframe tbody tr th {\n",
       "        vertical-align: top;\n",
       "    }\n",
       "\n",
       "    .dataframe thead th {\n",
       "        text-align: right;\n",
       "    }\n",
       "</style>\n",
       "<table border=\"1\" class=\"dataframe\">\n",
       "  <thead>\n",
       "    <tr style=\"text-align: right;\">\n",
       "      <th></th>\n",
       "      <th>user_id</th>\n",
       "      <th>median_age</th>\n",
       "      <th>q10_age</th>\n",
       "      <th>q25_age</th>\n",
       "      <th>q75_age</th>\n",
       "      <th>q90_age</th>\n",
       "      <th>avg_age</th>\n",
       "    </tr>\n",
       "  </thead>\n",
       "  <tbody>\n",
       "    <tr>\n",
       "      <th>0</th>\n",
       "      <td>0</td>\n",
       "      <td>36.028846</td>\n",
       "      <td>24.301923</td>\n",
       "      <td>29.076923</td>\n",
       "      <td>44.730769</td>\n",
       "      <td>54.180769</td>\n",
       "      <td>37.801677</td>\n",
       "    </tr>\n",
       "    <tr>\n",
       "      <th>1</th>\n",
       "      <td>1</td>\n",
       "      <td>38.161654</td>\n",
       "      <td>25.871429</td>\n",
       "      <td>30.962406</td>\n",
       "      <td>47.184211</td>\n",
       "      <td>55.955639</td>\n",
       "      <td>39.708257</td>\n",
       "    </tr>\n",
       "    <tr>\n",
       "      <th>2</th>\n",
       "      <td>2</td>\n",
       "      <td>35.215686</td>\n",
       "      <td>24.058824</td>\n",
       "      <td>28.647059</td>\n",
       "      <td>43.705882</td>\n",
       "      <td>53.035294</td>\n",
       "      <td>37.098618</td>\n",
       "    </tr>\n",
       "    <tr>\n",
       "      <th>3</th>\n",
       "      <td>3</td>\n",
       "      <td>35.404762</td>\n",
       "      <td>24.176190</td>\n",
       "      <td>28.892857</td>\n",
       "      <td>43.857143</td>\n",
       "      <td>53.280952</td>\n",
       "      <td>37.303979</td>\n",
       "    </tr>\n",
       "    <tr>\n",
       "      <th>4</th>\n",
       "      <td>4</td>\n",
       "      <td>34.948598</td>\n",
       "      <td>24.196262</td>\n",
       "      <td>28.565421</td>\n",
       "      <td>43.116822</td>\n",
       "      <td>52.268224</td>\n",
       "      <td>36.800544</td>\n",
       "    </tr>\n",
       "  </tbody>\n",
       "</table>\n",
       "</div>"
      ],
      "text/plain": [
       "   user_id  median_age    q10_age    q25_age    q75_age    q90_age    avg_age\n",
       "0        0   36.028846  24.301923  29.076923  44.730769  54.180769  37.801677\n",
       "1        1   38.161654  25.871429  30.962406  47.184211  55.955639  39.708257\n",
       "2        2   35.215686  24.058824  28.647059  43.705882  53.035294  37.098618\n",
       "3        3   35.404762  24.176190  28.892857  43.857143  53.280952  37.303979\n",
       "4        4   34.948598  24.196262  28.565421  43.116822  52.268224  36.800544"
      ]
     },
     "execution_count": 9,
     "metadata": {},
     "output_type": "execute_result"
    }
   ],
   "source": [
    "users_age_distribution.to_csv('users_age_distribution.csv', index=False)\n",
    "users_age_distribution.head()"
   ]
  },
  {
   "cell_type": "code",
   "execution_count": 10,
   "metadata": {
    "execution": {
     "iopub.execute_input": "2023-02-23T14:22:52.083305Z",
     "iopub.status.busy": "2023-02-23T14:22:52.082639Z",
     "iopub.status.idle": "2023-02-23T14:22:52.589982Z",
     "shell.execute_reply": "2023-02-23T14:22:52.588370Z",
     "shell.execute_reply.started": "2023-02-23T14:22:52.083234Z"
    }
   },
   "outputs": [
    {
     "data": {
      "text/plain": [
       "1080"
      ]
     },
     "execution_count": 10,
     "metadata": {},
     "output_type": "execute_result"
    }
   ],
   "source": [
    "gc.collect()"
   ]
  },
  {
   "cell_type": "code",
   "execution_count": null,
   "metadata": {},
   "outputs": [],
   "source": []
  }
 ],
 "metadata": {
  "kernelspec": {
   "display_name": "Python 3 (ipykernel)",
   "language": "python",
   "name": "python3"
  },
  "language_info": {
   "codemirror_mode": {
    "name": "ipython",
    "version": 3
   },
   "file_extension": ".py",
   "mimetype": "text/x-python",
   "name": "python",
   "nbconvert_exporter": "python",
   "pygments_lexer": "ipython3",
   "version": "3.9.12"
  }
 },
 "nbformat": 4,
 "nbformat_minor": 4
}
